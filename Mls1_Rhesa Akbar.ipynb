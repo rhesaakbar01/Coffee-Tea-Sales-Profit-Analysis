{
  "cells": [
    {
      "cell_type": "markdown",
      "metadata": {
        "id": "wlBw9y5dfyu6"
      },
      "source": [
        "# 1-Introduction"
      ]
    },
    {
      "cell_type": "markdown",
      "metadata": {
        "id": "8knaqfFkf2n3"
      },
      "source": [
        "Nama: Rhesa Akbar Elvarettano\n",
        "\n",
        "Batch: SBY-002\n",
        "\n",
        "Objective: Melakukan analisa data untuk meningkatkan profit pada suatu kedai kopi dan teh\n",
        "\n",
        "\n",
        "Link Tableau: https://public.tableau.com/app/profile/rhesa.akbar/viz/CoffeeandTeaShopProfitDashbord/Dashboard1\n",
        "\n"
      ]
    },
    {
      "cell_type": "markdown",
      "metadata": {},
      "source": [
        "# 2-Import Library"
      ]
    },
    {
      "cell_type": "code",
      "execution_count": 6,
      "metadata": {},
      "outputs": [],
      "source": [
        "import pandas as pd\n",
        "import numpy as np\n",
        "import matplotlib.pyplot as plt\n",
        "import seaborn as sns\n",
        "from scipy import stats\n",
        "pd.set_option(\"display.max.columns\", None)"
      ]
    },
    {
      "cell_type": "markdown",
      "metadata": {
        "id": "f7mg-EgegFjj"
      },
      "source": [
        "# 3-Identifikasi Masalah"
      ]
    },
    {
      "cell_type": "markdown",
      "metadata": {
        "id": "uCbzwiFlg23N"
      },
      "source": [
        "## 3.1-Penjabaran problem statement\n",
        "\n",
        "\n",
        "Specific: Meningkatkan profit penjualan \n",
        "\n",
        "Measurable: profit penjualan Meningkat sebesar 10%  \n",
        "\n",
        "Achievable: Menentukan produk dan lokasi paling profit dari tidak profit sehingga kita bisa memprioritaskan menjual barang dengan produk dan lokasi paling profit sehingga dapat menigkatkan profit 10%\n",
        "\n",
        "Relevant: Meningkatkan penjualan dapat menghasilkan profit yang lebih tinggi.\n",
        "\n",
        "Timebound: Mencapai target profit pada tahun 2016\n",
        "\n",
        "\n",
        "\n"
      ]
    },
    {
      "cell_type": "markdown",
      "metadata": {
        "id": "DSIyqftig9Mj"
      },
      "source": [
        "## 3.2-Problem Statement:\n",
        "\n",
        "Tujuannya untuk meningkatkan profit dengan target sebesar 10% pada tahun 2016. Hal itu dapat dicapai dengan fokus meningkatkan penjualan dengan menentukan produk dan lokasi yang paling profit dari pada yang tidak profit sehingga dapat meningkatkan profit 10%."
      ]
    },
    {
      "cell_type": "markdown",
      "metadata": {
        "id": "BvSBAnTkg93c"
      },
      "source": [
        "## 3.3-Defining the problem dengan metode 5W+1H:\n",
        "\n",
        "1. Produk apa paling banyak memberikan keuntungan?\n",
        "\n",
        "2. Produk apa paling banyak terjual?\n",
        "\n",
        "3. Dimana state paling banyak memberikan keuntungan?\n",
        "\n",
        "4. Dimana state paling banyak melakukan penjualan?\n",
        "\n",
        "5. Dari 5 state paling banyak profit, produk apa yang paling profit dari masing-masing state?\n",
        "\n",
        "6. Dimana state paling banyak mendapatkan profit dari produk colombian?\n",
        "\n",
        "7. Kapan produk Colombian paling banyak profit?\n",
        "\n",
        "8. Statistik Inferential: Apakah memang negara New York dan California yang memiliki profit paling tinggi pada produk colomnian tersebut memiliki perbedaan yg signifikan, coba cek menggunakan two sampel\n",
        "\n",
        "9. Statistik Deskriptif dengan Central Tendency"
      ]
    },
    {
      "cell_type": "markdown",
      "metadata": {
        "id": "Loi3_QZwhA4f"
      },
      "source": [
        "# 4-Data Loading"
      ]
    },
    {
      "cell_type": "markdown",
      "metadata": {
        "id": "gzWivTl0E4kw"
      },
      "source": [
        "[Link Dataset](https://www.kaggle.com/datasets/amruthayenikonda/coffee-chain-sales-dataset/)"
      ]
    },
    {
      "cell_type": "code",
      "execution_count": 7,
      "metadata": {
        "id": "4zLOTxY0hJN-"
      },
      "outputs": [],
      "source": [
        "# Membaca data dari file CSV\n",
        "df = pd.read_csv('Coffee_Chain_Sales.csv')"
      ]
    },
    {
      "cell_type": "code",
      "execution_count": 8,
      "metadata": {
        "id": "y-B9LuZN7g4h"
      },
      "outputs": [
        {
          "data": {
            "text/html": [
              "<div>\n",
              "<style scoped>\n",
              "    .dataframe tbody tr th:only-of-type {\n",
              "        vertical-align: middle;\n",
              "    }\n",
              "\n",
              "    .dataframe tbody tr th {\n",
              "        vertical-align: top;\n",
              "    }\n",
              "\n",
              "    .dataframe thead th {\n",
              "        text-align: right;\n",
              "    }\n",
              "</style>\n",
              "<table border=\"1\" class=\"dataframe\">\n",
              "  <thead>\n",
              "    <tr style=\"text-align: right;\">\n",
              "      <th></th>\n",
              "      <th>Area Code</th>\n",
              "      <th>Cogs</th>\n",
              "      <th>DifferenceBetweenActualandTargetProfit</th>\n",
              "      <th>Date</th>\n",
              "      <th>Inventory Margin</th>\n",
              "      <th>Margin</th>\n",
              "      <th>Market_size</th>\n",
              "      <th>Market</th>\n",
              "      <th>Marketing</th>\n",
              "      <th>Product_line</th>\n",
              "      <th>Product_type</th>\n",
              "      <th>Product</th>\n",
              "      <th>Profit</th>\n",
              "      <th>Sales</th>\n",
              "      <th>State</th>\n",
              "      <th>Target_cogs</th>\n",
              "      <th>Target_margin</th>\n",
              "      <th>Target_profit</th>\n",
              "      <th>Target_sales</th>\n",
              "      <th>Total_expenses</th>\n",
              "      <th>Type</th>\n",
              "    </tr>\n",
              "  </thead>\n",
              "  <tbody>\n",
              "    <tr>\n",
              "      <th>0</th>\n",
              "      <td>303</td>\n",
              "      <td>51</td>\n",
              "      <td>-35</td>\n",
              "      <td>10/1/2012</td>\n",
              "      <td>503</td>\n",
              "      <td>71</td>\n",
              "      <td>Major Market</td>\n",
              "      <td>Central</td>\n",
              "      <td>46</td>\n",
              "      <td>Leaves</td>\n",
              "      <td>Herbal Tea</td>\n",
              "      <td>Lemon</td>\n",
              "      <td>-5</td>\n",
              "      <td>122</td>\n",
              "      <td>Colorado</td>\n",
              "      <td>30</td>\n",
              "      <td>60</td>\n",
              "      <td>30</td>\n",
              "      <td>90</td>\n",
              "      <td>76</td>\n",
              "      <td>Decaf</td>\n",
              "    </tr>\n",
              "    <tr>\n",
              "      <th>1</th>\n",
              "      <td>970</td>\n",
              "      <td>52</td>\n",
              "      <td>-24</td>\n",
              "      <td>10/1/2012</td>\n",
              "      <td>405</td>\n",
              "      <td>71</td>\n",
              "      <td>Major Market</td>\n",
              "      <td>Central</td>\n",
              "      <td>17</td>\n",
              "      <td>Leaves</td>\n",
              "      <td>Herbal Tea</td>\n",
              "      <td>Mint</td>\n",
              "      <td>26</td>\n",
              "      <td>123</td>\n",
              "      <td>Colorado</td>\n",
              "      <td>30</td>\n",
              "      <td>60</td>\n",
              "      <td>50</td>\n",
              "      <td>90</td>\n",
              "      <td>45</td>\n",
              "      <td>Decaf</td>\n",
              "    </tr>\n",
              "    <tr>\n",
              "      <th>2</th>\n",
              "      <td>409</td>\n",
              "      <td>43</td>\n",
              "      <td>-22</td>\n",
              "      <td>10/2/2012</td>\n",
              "      <td>419</td>\n",
              "      <td>64</td>\n",
              "      <td>Major Market</td>\n",
              "      <td>South</td>\n",
              "      <td>13</td>\n",
              "      <td>Leaves</td>\n",
              "      <td>Herbal Tea</td>\n",
              "      <td>Lemon</td>\n",
              "      <td>28</td>\n",
              "      <td>107</td>\n",
              "      <td>Texas</td>\n",
              "      <td>30</td>\n",
              "      <td>60</td>\n",
              "      <td>50</td>\n",
              "      <td>90</td>\n",
              "      <td>36</td>\n",
              "      <td>Decaf</td>\n",
              "    </tr>\n",
              "    <tr>\n",
              "      <th>3</th>\n",
              "      <td>850</td>\n",
              "      <td>38</td>\n",
              "      <td>-15</td>\n",
              "      <td>10/3/2012</td>\n",
              "      <td>871</td>\n",
              "      <td>56</td>\n",
              "      <td>Major Market</td>\n",
              "      <td>East</td>\n",
              "      <td>10</td>\n",
              "      <td>Leaves</td>\n",
              "      <td>Tea</td>\n",
              "      <td>Darjeeling</td>\n",
              "      <td>35</td>\n",
              "      <td>94</td>\n",
              "      <td>Florida</td>\n",
              "      <td>40</td>\n",
              "      <td>60</td>\n",
              "      <td>50</td>\n",
              "      <td>100</td>\n",
              "      <td>21</td>\n",
              "      <td>Regular</td>\n",
              "    </tr>\n",
              "    <tr>\n",
              "      <th>4</th>\n",
              "      <td>562</td>\n",
              "      <td>72</td>\n",
              "      <td>6</td>\n",
              "      <td>10/4/2012</td>\n",
              "      <td>650</td>\n",
              "      <td>110</td>\n",
              "      <td>Major Market</td>\n",
              "      <td>West</td>\n",
              "      <td>23</td>\n",
              "      <td>Leaves</td>\n",
              "      <td>Tea</td>\n",
              "      <td>Green Tea</td>\n",
              "      <td>56</td>\n",
              "      <td>182</td>\n",
              "      <td>California</td>\n",
              "      <td>20</td>\n",
              "      <td>60</td>\n",
              "      <td>50</td>\n",
              "      <td>80</td>\n",
              "      <td>54</td>\n",
              "      <td>Regular</td>\n",
              "    </tr>\n",
              "    <tr>\n",
              "      <th>...</th>\n",
              "      <td>...</td>\n",
              "      <td>...</td>\n",
              "      <td>...</td>\n",
              "      <td>...</td>\n",
              "      <td>...</td>\n",
              "      <td>...</td>\n",
              "      <td>...</td>\n",
              "      <td>...</td>\n",
              "      <td>...</td>\n",
              "      <td>...</td>\n",
              "      <td>...</td>\n",
              "      <td>...</td>\n",
              "      <td>...</td>\n",
              "      <td>...</td>\n",
              "      <td>...</td>\n",
              "      <td>...</td>\n",
              "      <td>...</td>\n",
              "      <td>...</td>\n",
              "      <td>...</td>\n",
              "      <td>...</td>\n",
              "      <td>...</td>\n",
              "    </tr>\n",
              "    <tr>\n",
              "      <th>1057</th>\n",
              "      <td>775</td>\n",
              "      <td>250</td>\n",
              "      <td>133</td>\n",
              "      <td>8/23/2015</td>\n",
              "      <td>1820</td>\n",
              "      <td>251</td>\n",
              "      <td>Small Market</td>\n",
              "      <td>West</td>\n",
              "      <td>70</td>\n",
              "      <td>Leaves</td>\n",
              "      <td>Tea</td>\n",
              "      <td>Earl Grey</td>\n",
              "      <td>233</td>\n",
              "      <td>534</td>\n",
              "      <td>Nevada</td>\n",
              "      <td>180</td>\n",
              "      <td>180</td>\n",
              "      <td>100</td>\n",
              "      <td>360</td>\n",
              "      <td>94</td>\n",
              "      <td>Regular</td>\n",
              "    </tr>\n",
              "    <tr>\n",
              "      <th>1058</th>\n",
              "      <td>971</td>\n",
              "      <td>88</td>\n",
              "      <td>48</td>\n",
              "      <td>8/24/2015</td>\n",
              "      <td>817</td>\n",
              "      <td>133</td>\n",
              "      <td>Small Market</td>\n",
              "      <td>West</td>\n",
              "      <td>29</td>\n",
              "      <td>Leaves</td>\n",
              "      <td>Tea</td>\n",
              "      <td>Earl Grey</td>\n",
              "      <td>108</td>\n",
              "      <td>236</td>\n",
              "      <td>Oregon</td>\n",
              "      <td>60</td>\n",
              "      <td>100</td>\n",
              "      <td>60</td>\n",
              "      <td>160</td>\n",
              "      <td>60</td>\n",
              "      <td>Regular</td>\n",
              "    </tr>\n",
              "    <tr>\n",
              "      <th>1059</th>\n",
              "      <td>775</td>\n",
              "      <td>294</td>\n",
              "      <td>-285</td>\n",
              "      <td>8/25/2015</td>\n",
              "      <td>8252</td>\n",
              "      <td>-294</td>\n",
              "      <td>Small Market</td>\n",
              "      <td>West</td>\n",
              "      <td>111</td>\n",
              "      <td>Leaves</td>\n",
              "      <td>Tea</td>\n",
              "      <td>Green Tea</td>\n",
              "      <td>-605</td>\n",
              "      <td>33</td>\n",
              "      <td>Nevada</td>\n",
              "      <td>210</td>\n",
              "      <td>-210</td>\n",
              "      <td>-320</td>\n",
              "      <td>0</td>\n",
              "      <td>145</td>\n",
              "      <td>Regular</td>\n",
              "    </tr>\n",
              "    <tr>\n",
              "      <th>1060</th>\n",
              "      <td>503</td>\n",
              "      <td>134</td>\n",
              "      <td>80</td>\n",
              "      <td>8/26/2015</td>\n",
              "      <td>690</td>\n",
              "      <td>186</td>\n",
              "      <td>Small Market</td>\n",
              "      <td>West</td>\n",
              "      <td>41</td>\n",
              "      <td>Leaves</td>\n",
              "      <td>Tea</td>\n",
              "      <td>Green Tea</td>\n",
              "      <td>180</td>\n",
              "      <td>341</td>\n",
              "      <td>Oregon</td>\n",
              "      <td>90</td>\n",
              "      <td>140</td>\n",
              "      <td>100</td>\n",
              "      <td>230</td>\n",
              "      <td>65</td>\n",
              "      <td>Regular</td>\n",
              "    </tr>\n",
              "    <tr>\n",
              "      <th>1061</th>\n",
              "      <td>435</td>\n",
              "      <td>20</td>\n",
              "      <td>-22</td>\n",
              "      <td>8/27/2015</td>\n",
              "      <td>218</td>\n",
              "      <td>25</td>\n",
              "      <td>Small Market</td>\n",
              "      <td>West</td>\n",
              "      <td>7</td>\n",
              "      <td>Leaves</td>\n",
              "      <td>Tea</td>\n",
              "      <td>Green Tea</td>\n",
              "      <td>-22</td>\n",
              "      <td>48</td>\n",
              "      <td>Utah</td>\n",
              "      <td>10</td>\n",
              "      <td>20</td>\n",
              "      <td>0</td>\n",
              "      <td>30</td>\n",
              "      <td>40</td>\n",
              "      <td>Regular</td>\n",
              "    </tr>\n",
              "  </tbody>\n",
              "</table>\n",
              "<p>1062 rows × 21 columns</p>\n",
              "</div>"
            ],
            "text/plain": [
              "      Area Code  Cogs  DifferenceBetweenActualandTargetProfit       Date  \\\n",
              "0           303    51                                     -35  10/1/2012   \n",
              "1           970    52                                     -24  10/1/2012   \n",
              "2           409    43                                     -22  10/2/2012   \n",
              "3           850    38                                     -15  10/3/2012   \n",
              "4           562    72                                       6  10/4/2012   \n",
              "...         ...   ...                                     ...        ...   \n",
              "1057        775   250                                     133  8/23/2015   \n",
              "1058        971    88                                      48  8/24/2015   \n",
              "1059        775   294                                    -285  8/25/2015   \n",
              "1060        503   134                                      80  8/26/2015   \n",
              "1061        435    20                                     -22  8/27/2015   \n",
              "\n",
              "      Inventory Margin  Margin   Market_size   Market  Marketing Product_line  \\\n",
              "0                  503      71  Major Market  Central         46       Leaves   \n",
              "1                  405      71  Major Market  Central         17       Leaves   \n",
              "2                  419      64  Major Market    South         13       Leaves   \n",
              "3                  871      56  Major Market     East         10       Leaves   \n",
              "4                  650     110  Major Market     West         23       Leaves   \n",
              "...                ...     ...           ...      ...        ...          ...   \n",
              "1057              1820     251  Small Market     West         70       Leaves   \n",
              "1058               817     133  Small Market     West         29       Leaves   \n",
              "1059              8252    -294  Small Market     West        111       Leaves   \n",
              "1060               690     186  Small Market     West         41       Leaves   \n",
              "1061               218      25  Small Market     West          7       Leaves   \n",
              "\n",
              "     Product_type     Product  Profit  Sales       State  Target_cogs  \\\n",
              "0      Herbal Tea       Lemon      -5    122    Colorado           30   \n",
              "1      Herbal Tea        Mint      26    123    Colorado           30   \n",
              "2      Herbal Tea       Lemon      28    107       Texas           30   \n",
              "3             Tea  Darjeeling      35     94     Florida           40   \n",
              "4             Tea   Green Tea      56    182  California           20   \n",
              "...           ...         ...     ...    ...         ...          ...   \n",
              "1057          Tea   Earl Grey     233    534      Nevada          180   \n",
              "1058          Tea   Earl Grey     108    236      Oregon           60   \n",
              "1059          Tea   Green Tea    -605     33      Nevada          210   \n",
              "1060          Tea   Green Tea     180    341      Oregon           90   \n",
              "1061          Tea   Green Tea     -22     48        Utah           10   \n",
              "\n",
              "      Target_margin  Target_profit  Target_sales   Total_expenses     Type  \n",
              "0                60             30             90              76    Decaf  \n",
              "1                60             50             90              45    Decaf  \n",
              "2                60             50             90              36    Decaf  \n",
              "3                60             50            100              21  Regular  \n",
              "4                60             50             80              54  Regular  \n",
              "...             ...            ...            ...             ...      ...  \n",
              "1057            180            100            360              94  Regular  \n",
              "1058            100             60            160              60  Regular  \n",
              "1059           -210           -320              0             145  Regular  \n",
              "1060            140            100            230              65  Regular  \n",
              "1061             20              0             30              40  Regular  \n",
              "\n",
              "[1062 rows x 21 columns]"
            ]
          },
          "execution_count": 8,
          "metadata": {},
          "output_type": "execute_result"
        }
      ],
      "source": [
        "# Tampilkan Data\n",
        "df"
      ]
    },
    {
      "cell_type": "code",
      "execution_count": 59,
      "metadata": {},
      "outputs": [
        {
          "data": {
            "text/plain": [
              "array([  -5,   26,   28,   35,   56,   31,   21,    7,   37,   33,   24,\n",
              "         -7,    1,   -2,   12,   -6,   45,   47,   36,   64,   76,   48,\n",
              "         27,   -8,   44,   15,   29,   30,   34,   14,   20,   49,   13,\n",
              "         52,   23,   50,   53,   -3,   16,   17,   39,   42,   83,   46,\n",
              "         10,   55,  -10,   18,   -9,   67,   70,   95,  113,   71,   40,\n",
              "        -12,   65,   22,   43,   73,   19,   77,   74,   79,   -4,   25,\n",
              "          0,   57,   38,  -20,    6,   32,    8,  117,   85,  -30,    9,\n",
              "        -26,   11,    5,    2,  -39,  -13,    3,  -11,   58,  -16,   82,\n",
              "         68,   86,  -18,  -24,   78,   59,   51,  116,   96,   88,  185,\n",
              "        133,   87,  174,  127,   62,   89,  188,   72,   66,  -15,  121,\n",
              "        275,  197,  110,  129,  258,   92,  105,  132,  126,  279,  107,\n",
              "         98,  -22,  180,  114,  115,  122,  171,  181,  156,   60,  348,\n",
              "        247, -202,  435, -170,  134,   63,  324,  236,  108,  381,  204,\n",
              "       -156,   84,  390,  271, -224,  312,  309, -189,  516,  367, -300,\n",
              "        137,  646,  191, -252,  199,   93,  481,  350,  160,  565,  303,\n",
              "       -232,  125,  579,  402, -332,  463,  459, -280,  149,  120,  224,\n",
              "         61,  183,  106,  128,  139,  196,  173,  157,  194,  216,   -1,\n",
              "        123,  172,  221,  178,  332,   91,  169,  272,  190,  206,  291,\n",
              "        159,  104,  257,  131,  233,  288,  321,  232, -117,  225,  -74,\n",
              "        186,  -27, -363, -127,  -56,  235,  138, -340, -149,  -88,  215,\n",
              "       -408, -174,  334, -110,  276,  135,  -40, -539, -188,  292,  -83,\n",
              "        349,  205, -505, -221, -131,  319, -605], dtype=int64)"
            ]
          },
          "execution_count": 59,
          "metadata": {},
          "output_type": "execute_result"
        }
      ],
      "source": [
        "unique_products = df['profit'].unique()\n",
        "unique_products"
      ]
    },
    {
      "cell_type": "code",
      "execution_count": 10,
      "metadata": {},
      "outputs": [
        {
          "data": {
            "text/html": [
              "<div>\n",
              "<style scoped>\n",
              "    .dataframe tbody tr th:only-of-type {\n",
              "        vertical-align: middle;\n",
              "    }\n",
              "\n",
              "    .dataframe tbody tr th {\n",
              "        vertical-align: top;\n",
              "    }\n",
              "\n",
              "    .dataframe thead th {\n",
              "        text-align: right;\n",
              "    }\n",
              "</style>\n",
              "<table border=\"1\" class=\"dataframe\">\n",
              "  <thead>\n",
              "    <tr style=\"text-align: right;\">\n",
              "      <th></th>\n",
              "      <th>Area Code</th>\n",
              "      <th>Cogs</th>\n",
              "      <th>DifferenceBetweenActualandTargetProfit</th>\n",
              "      <th>Date</th>\n",
              "      <th>Inventory Margin</th>\n",
              "      <th>Margin</th>\n",
              "      <th>Market_size</th>\n",
              "      <th>Market</th>\n",
              "      <th>Marketing</th>\n",
              "      <th>Product_line</th>\n",
              "      <th>Product_type</th>\n",
              "      <th>Product</th>\n",
              "      <th>Profit</th>\n",
              "      <th>Sales</th>\n",
              "      <th>State</th>\n",
              "      <th>Target_cogs</th>\n",
              "      <th>Target_margin</th>\n",
              "      <th>Target_profit</th>\n",
              "      <th>Target_sales</th>\n",
              "      <th>Total_expenses</th>\n",
              "      <th>Type</th>\n",
              "    </tr>\n",
              "  </thead>\n",
              "  <tbody>\n",
              "    <tr>\n",
              "      <th>0</th>\n",
              "      <td>303</td>\n",
              "      <td>51</td>\n",
              "      <td>-35</td>\n",
              "      <td>10/1/2012</td>\n",
              "      <td>503</td>\n",
              "      <td>71</td>\n",
              "      <td>Major Market</td>\n",
              "      <td>Central</td>\n",
              "      <td>46</td>\n",
              "      <td>Leaves</td>\n",
              "      <td>Herbal Tea</td>\n",
              "      <td>Lemon</td>\n",
              "      <td>-5</td>\n",
              "      <td>122</td>\n",
              "      <td>Colorado</td>\n",
              "      <td>30</td>\n",
              "      <td>60</td>\n",
              "      <td>30</td>\n",
              "      <td>90</td>\n",
              "      <td>76</td>\n",
              "      <td>Decaf</td>\n",
              "    </tr>\n",
              "    <tr>\n",
              "      <th>1</th>\n",
              "      <td>970</td>\n",
              "      <td>52</td>\n",
              "      <td>-24</td>\n",
              "      <td>10/1/2012</td>\n",
              "      <td>405</td>\n",
              "      <td>71</td>\n",
              "      <td>Major Market</td>\n",
              "      <td>Central</td>\n",
              "      <td>17</td>\n",
              "      <td>Leaves</td>\n",
              "      <td>Herbal Tea</td>\n",
              "      <td>Mint</td>\n",
              "      <td>26</td>\n",
              "      <td>123</td>\n",
              "      <td>Colorado</td>\n",
              "      <td>30</td>\n",
              "      <td>60</td>\n",
              "      <td>50</td>\n",
              "      <td>90</td>\n",
              "      <td>45</td>\n",
              "      <td>Decaf</td>\n",
              "    </tr>\n",
              "    <tr>\n",
              "      <th>2</th>\n",
              "      <td>409</td>\n",
              "      <td>43</td>\n",
              "      <td>-22</td>\n",
              "      <td>10/2/2012</td>\n",
              "      <td>419</td>\n",
              "      <td>64</td>\n",
              "      <td>Major Market</td>\n",
              "      <td>South</td>\n",
              "      <td>13</td>\n",
              "      <td>Leaves</td>\n",
              "      <td>Herbal Tea</td>\n",
              "      <td>Lemon</td>\n",
              "      <td>28</td>\n",
              "      <td>107</td>\n",
              "      <td>Texas</td>\n",
              "      <td>30</td>\n",
              "      <td>60</td>\n",
              "      <td>50</td>\n",
              "      <td>90</td>\n",
              "      <td>36</td>\n",
              "      <td>Decaf</td>\n",
              "    </tr>\n",
              "    <tr>\n",
              "      <th>3</th>\n",
              "      <td>850</td>\n",
              "      <td>38</td>\n",
              "      <td>-15</td>\n",
              "      <td>10/3/2012</td>\n",
              "      <td>871</td>\n",
              "      <td>56</td>\n",
              "      <td>Major Market</td>\n",
              "      <td>East</td>\n",
              "      <td>10</td>\n",
              "      <td>Leaves</td>\n",
              "      <td>Tea</td>\n",
              "      <td>Darjeeling</td>\n",
              "      <td>35</td>\n",
              "      <td>94</td>\n",
              "      <td>Florida</td>\n",
              "      <td>40</td>\n",
              "      <td>60</td>\n",
              "      <td>50</td>\n",
              "      <td>100</td>\n",
              "      <td>21</td>\n",
              "      <td>Regular</td>\n",
              "    </tr>\n",
              "    <tr>\n",
              "      <th>4</th>\n",
              "      <td>562</td>\n",
              "      <td>72</td>\n",
              "      <td>6</td>\n",
              "      <td>10/4/2012</td>\n",
              "      <td>650</td>\n",
              "      <td>110</td>\n",
              "      <td>Major Market</td>\n",
              "      <td>West</td>\n",
              "      <td>23</td>\n",
              "      <td>Leaves</td>\n",
              "      <td>Tea</td>\n",
              "      <td>Green Tea</td>\n",
              "      <td>56</td>\n",
              "      <td>182</td>\n",
              "      <td>California</td>\n",
              "      <td>20</td>\n",
              "      <td>60</td>\n",
              "      <td>50</td>\n",
              "      <td>80</td>\n",
              "      <td>54</td>\n",
              "      <td>Regular</td>\n",
              "    </tr>\n",
              "    <tr>\n",
              "      <th>5</th>\n",
              "      <td>712</td>\n",
              "      <td>0</td>\n",
              "      <td>-29</td>\n",
              "      <td>10/5/2012</td>\n",
              "      <td>430</td>\n",
              "      <td>43</td>\n",
              "      <td>Small Market</td>\n",
              "      <td>Central</td>\n",
              "      <td>0</td>\n",
              "      <td>Beans</td>\n",
              "      <td>Espresso</td>\n",
              "      <td>Decaf Espresso</td>\n",
              "      <td>31</td>\n",
              "      <td>43</td>\n",
              "      <td>Iowa</td>\n",
              "      <td>0</td>\n",
              "      <td>60</td>\n",
              "      <td>60</td>\n",
              "      <td>60</td>\n",
              "      <td>12</td>\n",
              "      <td>Decaf</td>\n",
              "    </tr>\n",
              "    <tr>\n",
              "      <th>6</th>\n",
              "      <td>860</td>\n",
              "      <td>47</td>\n",
              "      <td>-29</td>\n",
              "      <td>10/6/2012</td>\n",
              "      <td>375</td>\n",
              "      <td>64</td>\n",
              "      <td>Small Market</td>\n",
              "      <td>East</td>\n",
              "      <td>15</td>\n",
              "      <td>Beans</td>\n",
              "      <td>Espresso</td>\n",
              "      <td>Decaf Espresso</td>\n",
              "      <td>21</td>\n",
              "      <td>111</td>\n",
              "      <td>Connecticut</td>\n",
              "      <td>30</td>\n",
              "      <td>60</td>\n",
              "      <td>50</td>\n",
              "      <td>90</td>\n",
              "      <td>43</td>\n",
              "      <td>Decaf</td>\n",
              "    </tr>\n",
              "    <tr>\n",
              "      <th>7</th>\n",
              "      <td>918</td>\n",
              "      <td>27</td>\n",
              "      <td>-39</td>\n",
              "      <td>10/7/2012</td>\n",
              "      <td>859</td>\n",
              "      <td>39</td>\n",
              "      <td>Small Market</td>\n",
              "      <td>South</td>\n",
              "      <td>7</td>\n",
              "      <td>Beans</td>\n",
              "      <td>Coffee</td>\n",
              "      <td>Decaf Irish Cream</td>\n",
              "      <td>21</td>\n",
              "      <td>66</td>\n",
              "      <td>Oklahoma</td>\n",
              "      <td>30</td>\n",
              "      <td>60</td>\n",
              "      <td>60</td>\n",
              "      <td>90</td>\n",
              "      <td>18</td>\n",
              "      <td>Decaf</td>\n",
              "    </tr>\n",
              "    <tr>\n",
              "      <th>8</th>\n",
              "      <td>775</td>\n",
              "      <td>31</td>\n",
              "      <td>-43</td>\n",
              "      <td>10/8/2012</td>\n",
              "      <td>1000</td>\n",
              "      <td>37</td>\n",
              "      <td>Small Market</td>\n",
              "      <td>West</td>\n",
              "      <td>9</td>\n",
              "      <td>Beans</td>\n",
              "      <td>Coffee</td>\n",
              "      <td>Decaf Irish Cream</td>\n",
              "      <td>7</td>\n",
              "      <td>68</td>\n",
              "      <td>Nevada</td>\n",
              "      <td>30</td>\n",
              "      <td>60</td>\n",
              "      <td>50</td>\n",
              "      <td>90</td>\n",
              "      <td>30</td>\n",
              "      <td>Decaf</td>\n",
              "    </tr>\n",
              "    <tr>\n",
              "      <th>9</th>\n",
              "      <td>435</td>\n",
              "      <td>40</td>\n",
              "      <td>-23</td>\n",
              "      <td>10/9/2012</td>\n",
              "      <td>881</td>\n",
              "      <td>59</td>\n",
              "      <td>Small Market</td>\n",
              "      <td>West</td>\n",
              "      <td>11</td>\n",
              "      <td>Beans</td>\n",
              "      <td>Espresso</td>\n",
              "      <td>Decaf Espresso</td>\n",
              "      <td>37</td>\n",
              "      <td>99</td>\n",
              "      <td>Utah</td>\n",
              "      <td>20</td>\n",
              "      <td>60</td>\n",
              "      <td>60</td>\n",
              "      <td>80</td>\n",
              "      <td>22</td>\n",
              "      <td>Decaf</td>\n",
              "    </tr>\n",
              "  </tbody>\n",
              "</table>\n",
              "</div>"
            ],
            "text/plain": [
              "   Area Code  Cogs  DifferenceBetweenActualandTargetProfit       Date  \\\n",
              "0        303    51                                     -35  10/1/2012   \n",
              "1        970    52                                     -24  10/1/2012   \n",
              "2        409    43                                     -22  10/2/2012   \n",
              "3        850    38                                     -15  10/3/2012   \n",
              "4        562    72                                       6  10/4/2012   \n",
              "5        712     0                                     -29  10/5/2012   \n",
              "6        860    47                                     -29  10/6/2012   \n",
              "7        918    27                                     -39  10/7/2012   \n",
              "8        775    31                                     -43  10/8/2012   \n",
              "9        435    40                                     -23  10/9/2012   \n",
              "\n",
              "   Inventory Margin  Margin   Market_size   Market  Marketing Product_line  \\\n",
              "0               503      71  Major Market  Central         46       Leaves   \n",
              "1               405      71  Major Market  Central         17       Leaves   \n",
              "2               419      64  Major Market    South         13       Leaves   \n",
              "3               871      56  Major Market     East         10       Leaves   \n",
              "4               650     110  Major Market     West         23       Leaves   \n",
              "5               430      43  Small Market  Central          0        Beans   \n",
              "6               375      64  Small Market     East         15        Beans   \n",
              "7               859      39  Small Market    South          7        Beans   \n",
              "8              1000      37  Small Market     West          9        Beans   \n",
              "9               881      59  Small Market     West         11        Beans   \n",
              "\n",
              "  Product_type            Product  Profit  Sales        State  Target_cogs  \\\n",
              "0   Herbal Tea              Lemon      -5    122     Colorado           30   \n",
              "1   Herbal Tea               Mint      26    123     Colorado           30   \n",
              "2   Herbal Tea              Lemon      28    107        Texas           30   \n",
              "3          Tea         Darjeeling      35     94      Florida           40   \n",
              "4          Tea          Green Tea      56    182   California           20   \n",
              "5     Espresso     Decaf Espresso      31     43         Iowa            0   \n",
              "6     Espresso     Decaf Espresso      21    111  Connecticut           30   \n",
              "7       Coffee  Decaf Irish Cream      21     66     Oklahoma           30   \n",
              "8       Coffee  Decaf Irish Cream       7     68       Nevada           30   \n",
              "9     Espresso     Decaf Espresso      37     99         Utah           20   \n",
              "\n",
              "   Target_margin  Target_profit  Target_sales   Total_expenses     Type  \n",
              "0             60             30             90              76    Decaf  \n",
              "1             60             50             90              45    Decaf  \n",
              "2             60             50             90              36    Decaf  \n",
              "3             60             50            100              21  Regular  \n",
              "4             60             50             80              54  Regular  \n",
              "5             60             60             60              12    Decaf  \n",
              "6             60             50             90              43    Decaf  \n",
              "7             60             60             90              18    Decaf  \n",
              "8             60             50             90              30    Decaf  \n",
              "9             60             60             80              22    Decaf  "
            ]
          },
          "execution_count": 10,
          "metadata": {},
          "output_type": "execute_result"
        }
      ],
      "source": [
        "# Cek data 10 teratas\n",
        "df.head(10)"
      ]
    },
    {
      "cell_type": "code",
      "execution_count": 11,
      "metadata": {},
      "outputs": [
        {
          "data": {
            "text/html": [
              "<div>\n",
              "<style scoped>\n",
              "    .dataframe tbody tr th:only-of-type {\n",
              "        vertical-align: middle;\n",
              "    }\n",
              "\n",
              "    .dataframe tbody tr th {\n",
              "        vertical-align: top;\n",
              "    }\n",
              "\n",
              "    .dataframe thead th {\n",
              "        text-align: right;\n",
              "    }\n",
              "</style>\n",
              "<table border=\"1\" class=\"dataframe\">\n",
              "  <thead>\n",
              "    <tr style=\"text-align: right;\">\n",
              "      <th></th>\n",
              "      <th>Area Code</th>\n",
              "      <th>Cogs</th>\n",
              "      <th>DifferenceBetweenActualandTargetProfit</th>\n",
              "      <th>Date</th>\n",
              "      <th>Inventory Margin</th>\n",
              "      <th>Margin</th>\n",
              "      <th>Market_size</th>\n",
              "      <th>Market</th>\n",
              "      <th>Marketing</th>\n",
              "      <th>Product_line</th>\n",
              "      <th>Product_type</th>\n",
              "      <th>Product</th>\n",
              "      <th>Profit</th>\n",
              "      <th>Sales</th>\n",
              "      <th>State</th>\n",
              "      <th>Target_cogs</th>\n",
              "      <th>Target_margin</th>\n",
              "      <th>Target_profit</th>\n",
              "      <th>Target_sales</th>\n",
              "      <th>Total_expenses</th>\n",
              "      <th>Type</th>\n",
              "    </tr>\n",
              "  </thead>\n",
              "  <tbody>\n",
              "    <tr>\n",
              "      <th>1052</th>\n",
              "      <td>253</td>\n",
              "      <td>115</td>\n",
              "      <td>46</td>\n",
              "      <td>8/18/2015</td>\n",
              "      <td>1166</td>\n",
              "      <td>174</td>\n",
              "      <td>Small Market</td>\n",
              "      <td>West</td>\n",
              "      <td>37</td>\n",
              "      <td>Leaves</td>\n",
              "      <td>Herbal Tea</td>\n",
              "      <td>Chamomile</td>\n",
              "      <td>156</td>\n",
              "      <td>308</td>\n",
              "      <td>Washington</td>\n",
              "      <td>100</td>\n",
              "      <td>160</td>\n",
              "      <td>110</td>\n",
              "      <td>260</td>\n",
              "      <td>69</td>\n",
              "      <td>Decaf</td>\n",
              "    </tr>\n",
              "    <tr>\n",
              "      <th>1053</th>\n",
              "      <td>702</td>\n",
              "      <td>224</td>\n",
              "      <td>118</td>\n",
              "      <td>8/19/2015</td>\n",
              "      <td>1191</td>\n",
              "      <td>310</td>\n",
              "      <td>Small Market</td>\n",
              "      <td>West</td>\n",
              "      <td>73</td>\n",
              "      <td>Leaves</td>\n",
              "      <td>Herbal Tea</td>\n",
              "      <td>Lemon</td>\n",
              "      <td>288</td>\n",
              "      <td>569</td>\n",
              "      <td>Nevada</td>\n",
              "      <td>210</td>\n",
              "      <td>280</td>\n",
              "      <td>170</td>\n",
              "      <td>490</td>\n",
              "      <td>116</td>\n",
              "      <td>Decaf</td>\n",
              "    </tr>\n",
              "    <tr>\n",
              "      <th>1054</th>\n",
              "      <td>503</td>\n",
              "      <td>81</td>\n",
              "      <td>28</td>\n",
              "      <td>8/20/2015</td>\n",
              "      <td>551</td>\n",
              "      <td>104</td>\n",
              "      <td>Small Market</td>\n",
              "      <td>West</td>\n",
              "      <td>26</td>\n",
              "      <td>Leaves</td>\n",
              "      <td>Herbal Tea</td>\n",
              "      <td>Lemon</td>\n",
              "      <td>98</td>\n",
              "      <td>197</td>\n",
              "      <td>Oregon</td>\n",
              "      <td>70</td>\n",
              "      <td>100</td>\n",
              "      <td>70</td>\n",
              "      <td>170</td>\n",
              "      <td>38</td>\n",
              "      <td>Decaf</td>\n",
              "    </tr>\n",
              "    <tr>\n",
              "      <th>1055</th>\n",
              "      <td>775</td>\n",
              "      <td>127</td>\n",
              "      <td>61</td>\n",
              "      <td>8/21/2015</td>\n",
              "      <td>830</td>\n",
              "      <td>185</td>\n",
              "      <td>Small Market</td>\n",
              "      <td>West</td>\n",
              "      <td>40</td>\n",
              "      <td>Leaves</td>\n",
              "      <td>Herbal Tea</td>\n",
              "      <td>Mint</td>\n",
              "      <td>181</td>\n",
              "      <td>332</td>\n",
              "      <td>Nevada</td>\n",
              "      <td>120</td>\n",
              "      <td>170</td>\n",
              "      <td>120</td>\n",
              "      <td>290</td>\n",
              "      <td>63</td>\n",
              "      <td>Decaf</td>\n",
              "    </tr>\n",
              "    <tr>\n",
              "      <th>1056</th>\n",
              "      <td>775</td>\n",
              "      <td>247</td>\n",
              "      <td>169</td>\n",
              "      <td>8/22/2015</td>\n",
              "      <td>1744</td>\n",
              "      <td>329</td>\n",
              "      <td>Small Market</td>\n",
              "      <td>West</td>\n",
              "      <td>81</td>\n",
              "      <td>Leaves</td>\n",
              "      <td>Tea</td>\n",
              "      <td>Darjeeling</td>\n",
              "      <td>319</td>\n",
              "      <td>614</td>\n",
              "      <td>Nevada</td>\n",
              "      <td>180</td>\n",
              "      <td>240</td>\n",
              "      <td>150</td>\n",
              "      <td>420</td>\n",
              "      <td>114</td>\n",
              "      <td>Regular</td>\n",
              "    </tr>\n",
              "    <tr>\n",
              "      <th>1057</th>\n",
              "      <td>775</td>\n",
              "      <td>250</td>\n",
              "      <td>133</td>\n",
              "      <td>8/23/2015</td>\n",
              "      <td>1820</td>\n",
              "      <td>251</td>\n",
              "      <td>Small Market</td>\n",
              "      <td>West</td>\n",
              "      <td>70</td>\n",
              "      <td>Leaves</td>\n",
              "      <td>Tea</td>\n",
              "      <td>Earl Grey</td>\n",
              "      <td>233</td>\n",
              "      <td>534</td>\n",
              "      <td>Nevada</td>\n",
              "      <td>180</td>\n",
              "      <td>180</td>\n",
              "      <td>100</td>\n",
              "      <td>360</td>\n",
              "      <td>94</td>\n",
              "      <td>Regular</td>\n",
              "    </tr>\n",
              "    <tr>\n",
              "      <th>1058</th>\n",
              "      <td>971</td>\n",
              "      <td>88</td>\n",
              "      <td>48</td>\n",
              "      <td>8/24/2015</td>\n",
              "      <td>817</td>\n",
              "      <td>133</td>\n",
              "      <td>Small Market</td>\n",
              "      <td>West</td>\n",
              "      <td>29</td>\n",
              "      <td>Leaves</td>\n",
              "      <td>Tea</td>\n",
              "      <td>Earl Grey</td>\n",
              "      <td>108</td>\n",
              "      <td>236</td>\n",
              "      <td>Oregon</td>\n",
              "      <td>60</td>\n",
              "      <td>100</td>\n",
              "      <td>60</td>\n",
              "      <td>160</td>\n",
              "      <td>60</td>\n",
              "      <td>Regular</td>\n",
              "    </tr>\n",
              "    <tr>\n",
              "      <th>1059</th>\n",
              "      <td>775</td>\n",
              "      <td>294</td>\n",
              "      <td>-285</td>\n",
              "      <td>8/25/2015</td>\n",
              "      <td>8252</td>\n",
              "      <td>-294</td>\n",
              "      <td>Small Market</td>\n",
              "      <td>West</td>\n",
              "      <td>111</td>\n",
              "      <td>Leaves</td>\n",
              "      <td>Tea</td>\n",
              "      <td>Green Tea</td>\n",
              "      <td>-605</td>\n",
              "      <td>33</td>\n",
              "      <td>Nevada</td>\n",
              "      <td>210</td>\n",
              "      <td>-210</td>\n",
              "      <td>-320</td>\n",
              "      <td>0</td>\n",
              "      <td>145</td>\n",
              "      <td>Regular</td>\n",
              "    </tr>\n",
              "    <tr>\n",
              "      <th>1060</th>\n",
              "      <td>503</td>\n",
              "      <td>134</td>\n",
              "      <td>80</td>\n",
              "      <td>8/26/2015</td>\n",
              "      <td>690</td>\n",
              "      <td>186</td>\n",
              "      <td>Small Market</td>\n",
              "      <td>West</td>\n",
              "      <td>41</td>\n",
              "      <td>Leaves</td>\n",
              "      <td>Tea</td>\n",
              "      <td>Green Tea</td>\n",
              "      <td>180</td>\n",
              "      <td>341</td>\n",
              "      <td>Oregon</td>\n",
              "      <td>90</td>\n",
              "      <td>140</td>\n",
              "      <td>100</td>\n",
              "      <td>230</td>\n",
              "      <td>65</td>\n",
              "      <td>Regular</td>\n",
              "    </tr>\n",
              "    <tr>\n",
              "      <th>1061</th>\n",
              "      <td>435</td>\n",
              "      <td>20</td>\n",
              "      <td>-22</td>\n",
              "      <td>8/27/2015</td>\n",
              "      <td>218</td>\n",
              "      <td>25</td>\n",
              "      <td>Small Market</td>\n",
              "      <td>West</td>\n",
              "      <td>7</td>\n",
              "      <td>Leaves</td>\n",
              "      <td>Tea</td>\n",
              "      <td>Green Tea</td>\n",
              "      <td>-22</td>\n",
              "      <td>48</td>\n",
              "      <td>Utah</td>\n",
              "      <td>10</td>\n",
              "      <td>20</td>\n",
              "      <td>0</td>\n",
              "      <td>30</td>\n",
              "      <td>40</td>\n",
              "      <td>Regular</td>\n",
              "    </tr>\n",
              "  </tbody>\n",
              "</table>\n",
              "</div>"
            ],
            "text/plain": [
              "      Area Code  Cogs  DifferenceBetweenActualandTargetProfit       Date  \\\n",
              "1052        253   115                                      46  8/18/2015   \n",
              "1053        702   224                                     118  8/19/2015   \n",
              "1054        503    81                                      28  8/20/2015   \n",
              "1055        775   127                                      61  8/21/2015   \n",
              "1056        775   247                                     169  8/22/2015   \n",
              "1057        775   250                                     133  8/23/2015   \n",
              "1058        971    88                                      48  8/24/2015   \n",
              "1059        775   294                                    -285  8/25/2015   \n",
              "1060        503   134                                      80  8/26/2015   \n",
              "1061        435    20                                     -22  8/27/2015   \n",
              "\n",
              "      Inventory Margin  Margin   Market_size Market  Marketing Product_line  \\\n",
              "1052              1166     174  Small Market   West         37       Leaves   \n",
              "1053              1191     310  Small Market   West         73       Leaves   \n",
              "1054               551     104  Small Market   West         26       Leaves   \n",
              "1055               830     185  Small Market   West         40       Leaves   \n",
              "1056              1744     329  Small Market   West         81       Leaves   \n",
              "1057              1820     251  Small Market   West         70       Leaves   \n",
              "1058               817     133  Small Market   West         29       Leaves   \n",
              "1059              8252    -294  Small Market   West        111       Leaves   \n",
              "1060               690     186  Small Market   West         41       Leaves   \n",
              "1061               218      25  Small Market   West          7       Leaves   \n",
              "\n",
              "     Product_type     Product  Profit  Sales       State  Target_cogs  \\\n",
              "1052   Herbal Tea   Chamomile     156    308  Washington          100   \n",
              "1053   Herbal Tea       Lemon     288    569      Nevada          210   \n",
              "1054   Herbal Tea       Lemon      98    197      Oregon           70   \n",
              "1055   Herbal Tea        Mint     181    332      Nevada          120   \n",
              "1056          Tea  Darjeeling     319    614      Nevada          180   \n",
              "1057          Tea   Earl Grey     233    534      Nevada          180   \n",
              "1058          Tea   Earl Grey     108    236      Oregon           60   \n",
              "1059          Tea   Green Tea    -605     33      Nevada          210   \n",
              "1060          Tea   Green Tea     180    341      Oregon           90   \n",
              "1061          Tea   Green Tea     -22     48        Utah           10   \n",
              "\n",
              "      Target_margin  Target_profit  Target_sales   Total_expenses     Type  \n",
              "1052            160            110            260              69    Decaf  \n",
              "1053            280            170            490             116    Decaf  \n",
              "1054            100             70            170              38    Decaf  \n",
              "1055            170            120            290              63    Decaf  \n",
              "1056            240            150            420             114  Regular  \n",
              "1057            180            100            360              94  Regular  \n",
              "1058            100             60            160              60  Regular  \n",
              "1059           -210           -320              0             145  Regular  \n",
              "1060            140            100            230              65  Regular  \n",
              "1061             20              0             30              40  Regular  "
            ]
          },
          "execution_count": 11,
          "metadata": {},
          "output_type": "execute_result"
        }
      ],
      "source": [
        "# Cek data 10 terbawah\n",
        "df.tail(10)"
      ]
    },
    {
      "cell_type": "code",
      "execution_count": 12,
      "metadata": {
        "id": "rLkIsFJo7iBD"
      },
      "outputs": [
        {
          "name": "stdout",
          "output_type": "stream",
          "text": [
            "<class 'pandas.core.frame.DataFrame'>\n",
            "RangeIndex: 1062 entries, 0 to 1061\n",
            "Data columns (total 21 columns):\n",
            " #   Column                                  Non-Null Count  Dtype \n",
            "---  ------                                  --------------  ----- \n",
            " 0   Area Code                               1062 non-null   int64 \n",
            " 1   Cogs                                    1062 non-null   int64 \n",
            " 2   DifferenceBetweenActualandTargetProfit  1062 non-null   int64 \n",
            " 3   Date                                    1062 non-null   object\n",
            " 4   Inventory Margin                        1062 non-null   int64 \n",
            " 5   Margin                                  1062 non-null   int64 \n",
            " 6   Market_size                             1062 non-null   object\n",
            " 7   Market                                  1062 non-null   object\n",
            " 8   Marketing                               1062 non-null   int64 \n",
            " 9   Product_line                            1062 non-null   object\n",
            " 10  Product_type                            1062 non-null   object\n",
            " 11  Product                                 1062 non-null   object\n",
            " 12  Profit                                  1062 non-null   int64 \n",
            " 13  Sales                                   1062 non-null   int64 \n",
            " 14  State                                   1062 non-null   object\n",
            " 15  Target_cogs                             1062 non-null   int64 \n",
            " 16  Target_margin                           1062 non-null   int64 \n",
            " 17  Target_profit                           1062 non-null   int64 \n",
            " 18  Target_sales                            1062 non-null   int64 \n",
            " 19  Total_expenses                          1062 non-null   int64 \n",
            " 20  Type                                    1062 non-null   object\n",
            "dtypes: int64(13), object(8)\n",
            "memory usage: 174.4+ KB\n"
          ]
        }
      ],
      "source": [
        "# Cek jumlah baris dan kolom & cek tipe data\n",
        "df.info()"
      ]
    },
    {
      "cell_type": "code",
      "execution_count": 13,
      "metadata": {},
      "outputs": [
        {
          "data": {
            "text/html": [
              "<div>\n",
              "<style scoped>\n",
              "    .dataframe tbody tr th:only-of-type {\n",
              "        vertical-align: middle;\n",
              "    }\n",
              "\n",
              "    .dataframe tbody tr th {\n",
              "        vertical-align: top;\n",
              "    }\n",
              "\n",
              "    .dataframe thead th {\n",
              "        text-align: right;\n",
              "    }\n",
              "</style>\n",
              "<table border=\"1\" class=\"dataframe\">\n",
              "  <thead>\n",
              "    <tr style=\"text-align: right;\">\n",
              "      <th></th>\n",
              "      <th>Area Code</th>\n",
              "      <th>Cogs</th>\n",
              "      <th>DifferenceBetweenActualandTargetProfit</th>\n",
              "      <th>Inventory Margin</th>\n",
              "      <th>Margin</th>\n",
              "      <th>Marketing</th>\n",
              "      <th>Profit</th>\n",
              "      <th>Sales</th>\n",
              "      <th>Target_cogs</th>\n",
              "      <th>Target_margin</th>\n",
              "      <th>Target_profit</th>\n",
              "      <th>Target_sales</th>\n",
              "      <th>Total_expenses</th>\n",
              "    </tr>\n",
              "  </thead>\n",
              "  <tbody>\n",
              "    <tr>\n",
              "      <th>count</th>\n",
              "      <td>1062.000000</td>\n",
              "      <td>1062.000000</td>\n",
              "      <td>1062.000000</td>\n",
              "      <td>1062.000000</td>\n",
              "      <td>1062.000000</td>\n",
              "      <td>1062.000000</td>\n",
              "      <td>1062.000000</td>\n",
              "      <td>1062.000000</td>\n",
              "      <td>1062.000000</td>\n",
              "      <td>1062.000000</td>\n",
              "      <td>1062.000000</td>\n",
              "      <td>1062.000000</td>\n",
              "      <td>1062.000000</td>\n",
              "    </tr>\n",
              "    <tr>\n",
              "      <th>mean</th>\n",
              "      <td>587.030132</td>\n",
              "      <td>82.399247</td>\n",
              "      <td>0.387006</td>\n",
              "      <td>815.175141</td>\n",
              "      <td>102.423729</td>\n",
              "      <td>30.433145</td>\n",
              "      <td>60.556497</td>\n",
              "      <td>191.049906</td>\n",
              "      <td>71.676083</td>\n",
              "      <td>96.817326</td>\n",
              "      <td>60.169492</td>\n",
              "      <td>168.493409</td>\n",
              "      <td>53.836158</td>\n",
              "    </tr>\n",
              "    <tr>\n",
              "      <th>std</th>\n",
              "      <td>225.299162</td>\n",
              "      <td>64.824295</td>\n",
              "      <td>44.331180</td>\n",
              "      <td>916.156386</td>\n",
              "      <td>91.286704</td>\n",
              "      <td>25.963448</td>\n",
              "      <td>100.516593</td>\n",
              "      <td>148.270317</td>\n",
              "      <td>65.701583</td>\n",
              "      <td>89.467176</td>\n",
              "      <td>77.824869</td>\n",
              "      <td>145.955171</td>\n",
              "      <td>31.703526</td>\n",
              "    </tr>\n",
              "    <tr>\n",
              "      <th>min</th>\n",
              "      <td>203.000000</td>\n",
              "      <td>0.000000</td>\n",
              "      <td>-369.000000</td>\n",
              "      <td>-3534.000000</td>\n",
              "      <td>-294.000000</td>\n",
              "      <td>0.000000</td>\n",
              "      <td>-605.000000</td>\n",
              "      <td>21.000000</td>\n",
              "      <td>0.000000</td>\n",
              "      <td>-210.000000</td>\n",
              "      <td>-320.000000</td>\n",
              "      <td>0.000000</td>\n",
              "      <td>11.000000</td>\n",
              "    </tr>\n",
              "    <tr>\n",
              "      <th>25%</th>\n",
              "      <td>425.000000</td>\n",
              "      <td>41.000000</td>\n",
              "      <td>-15.000000</td>\n",
              "      <td>447.000000</td>\n",
              "      <td>51.000000</td>\n",
              "      <td>13.000000</td>\n",
              "      <td>16.250000</td>\n",
              "      <td>98.000000</td>\n",
              "      <td>30.000000</td>\n",
              "      <td>50.000000</td>\n",
              "      <td>20.000000</td>\n",
              "      <td>80.000000</td>\n",
              "      <td>33.000000</td>\n",
              "    </tr>\n",
              "    <tr>\n",
              "      <th>50%</th>\n",
              "      <td>573.000000</td>\n",
              "      <td>57.000000</td>\n",
              "      <td>-3.000000</td>\n",
              "      <td>659.000000</td>\n",
              "      <td>73.000000</td>\n",
              "      <td>22.000000</td>\n",
              "      <td>39.500000</td>\n",
              "      <td>133.000000</td>\n",
              "      <td>50.000000</td>\n",
              "      <td>70.000000</td>\n",
              "      <td>40.000000</td>\n",
              "      <td>120.000000</td>\n",
              "      <td>46.000000</td>\n",
              "    </tr>\n",
              "    <tr>\n",
              "      <th>75%</th>\n",
              "      <td>774.000000</td>\n",
              "      <td>101.000000</td>\n",
              "      <td>13.000000</td>\n",
              "      <td>968.000000</td>\n",
              "      <td>130.000000</td>\n",
              "      <td>40.750000</td>\n",
              "      <td>87.000000</td>\n",
              "      <td>227.000000</td>\n",
              "      <td>90.000000</td>\n",
              "      <td>120.000000</td>\n",
              "      <td>80.000000</td>\n",
              "      <td>210.000000</td>\n",
              "      <td>66.000000</td>\n",
              "    </tr>\n",
              "    <tr>\n",
              "      <th>max</th>\n",
              "      <td>985.000000</td>\n",
              "      <td>294.000000</td>\n",
              "      <td>249.000000</td>\n",
              "      <td>8252.000000</td>\n",
              "      <td>526.000000</td>\n",
              "      <td>122.000000</td>\n",
              "      <td>646.000000</td>\n",
              "      <td>815.000000</td>\n",
              "      <td>380.000000</td>\n",
              "      <td>580.000000</td>\n",
              "      <td>470.000000</td>\n",
              "      <td>960.000000</td>\n",
              "      <td>156.000000</td>\n",
              "    </tr>\n",
              "  </tbody>\n",
              "</table>\n",
              "</div>"
            ],
            "text/plain": [
              "         Area Code         Cogs  DifferenceBetweenActualandTargetProfit  \\\n",
              "count  1062.000000  1062.000000                             1062.000000   \n",
              "mean    587.030132    82.399247                                0.387006   \n",
              "std     225.299162    64.824295                               44.331180   \n",
              "min     203.000000     0.000000                             -369.000000   \n",
              "25%     425.000000    41.000000                              -15.000000   \n",
              "50%     573.000000    57.000000                               -3.000000   \n",
              "75%     774.000000   101.000000                               13.000000   \n",
              "max     985.000000   294.000000                              249.000000   \n",
              "\n",
              "       Inventory Margin       Margin    Marketing       Profit        Sales  \\\n",
              "count       1062.000000  1062.000000  1062.000000  1062.000000  1062.000000   \n",
              "mean         815.175141   102.423729    30.433145    60.556497   191.049906   \n",
              "std          916.156386    91.286704    25.963448   100.516593   148.270317   \n",
              "min        -3534.000000  -294.000000     0.000000  -605.000000    21.000000   \n",
              "25%          447.000000    51.000000    13.000000    16.250000    98.000000   \n",
              "50%          659.000000    73.000000    22.000000    39.500000   133.000000   \n",
              "75%          968.000000   130.000000    40.750000    87.000000   227.000000   \n",
              "max         8252.000000   526.000000   122.000000   646.000000   815.000000   \n",
              "\n",
              "       Target_cogs  Target_margin  Target_profit  Target_sales   \\\n",
              "count  1062.000000    1062.000000    1062.000000    1062.000000   \n",
              "mean     71.676083      96.817326      60.169492     168.493409   \n",
              "std      65.701583      89.467176      77.824869     145.955171   \n",
              "min       0.000000    -210.000000    -320.000000       0.000000   \n",
              "25%      30.000000      50.000000      20.000000      80.000000   \n",
              "50%      50.000000      70.000000      40.000000     120.000000   \n",
              "75%      90.000000     120.000000      80.000000     210.000000   \n",
              "max     380.000000     580.000000     470.000000     960.000000   \n",
              "\n",
              "       Total_expenses  \n",
              "count     1062.000000  \n",
              "mean        53.836158  \n",
              "std         31.703526  \n",
              "min         11.000000  \n",
              "25%         33.000000  \n",
              "50%         46.000000  \n",
              "75%         66.000000  \n",
              "max        156.000000  "
            ]
          },
          "execution_count": 13,
          "metadata": {},
          "output_type": "execute_result"
        }
      ],
      "source": [
        "df.describe()"
      ]
    },
    {
      "cell_type": "markdown",
      "metadata": {},
      "source": [
        "# 5.-Data Exploration\n"
      ]
    },
    {
      "cell_type": "code",
      "execution_count": 14,
      "metadata": {},
      "outputs": [
        {
          "data": {
            "text/plain": [
              "Index(['Area Code', 'Cogs', 'DifferenceBetweenActualandTargetProfit', 'Date',\n",
              "       'Inventory Margin', 'Margin', 'Market_size', 'Market', 'Marketing',\n",
              "       'Product_line', 'Product_type', 'Product', 'Profit', 'Sales', 'State',\n",
              "       'Target_cogs', 'Target_margin', 'Target_profit', 'Target_sales ',\n",
              "       'Total_expenses', 'Type'],\n",
              "      dtype='object')"
            ]
          },
          "execution_count": 14,
          "metadata": {},
          "output_type": "execute_result"
        }
      ],
      "source": [
        "# Cek White Space\n",
        "df.columns"
      ]
    },
    {
      "cell_type": "code",
      "execution_count": 15,
      "metadata": {
        "id": "nKSPOzX-7mxZ"
      },
      "outputs": [
        {
          "data": {
            "text/plain": [
              "Area Code                                 0\n",
              "Cogs                                      0\n",
              "DifferenceBetweenActualandTargetProfit    0\n",
              "Date                                      0\n",
              "Inventory Margin                          0\n",
              "Margin                                    0\n",
              "Market_size                               0\n",
              "Market                                    0\n",
              "Marketing                                 0\n",
              "Product_line                              0\n",
              "Product_type                              0\n",
              "Product                                   0\n",
              "Profit                                    0\n",
              "Sales                                     0\n",
              "State                                     0\n",
              "Target_cogs                               0\n",
              "Target_margin                             0\n",
              "Target_profit                             0\n",
              "Target_sales                              0\n",
              "Total_expenses                            0\n",
              "Type                                      0\n",
              "dtype: int64"
            ]
          },
          "execution_count": 15,
          "metadata": {},
          "output_type": "execute_result"
        }
      ],
      "source": [
        "# Cek apakah ada missing value\n",
        "df.isna().sum()"
      ]
    },
    {
      "cell_type": "markdown",
      "metadata": {},
      "source": [
        "Insight: Tidak ada missing value"
      ]
    },
    {
      "cell_type": "code",
      "execution_count": 16,
      "metadata": {
        "id": "bC-NmeTX7jDv"
      },
      "outputs": [
        {
          "data": {
            "text/plain": [
              "0       False\n",
              "1       False\n",
              "2       False\n",
              "3       False\n",
              "4       False\n",
              "        ...  \n",
              "1057    False\n",
              "1058    False\n",
              "1059    False\n",
              "1060    False\n",
              "1061    False\n",
              "Length: 1062, dtype: bool"
            ]
          },
          "execution_count": 16,
          "metadata": {},
          "output_type": "execute_result"
        }
      ],
      "source": [
        "# Untuuk mengecek baris yang duplicate\n",
        "df.duplicated()"
      ]
    },
    {
      "cell_type": "code",
      "execution_count": 17,
      "metadata": {},
      "outputs": [
        {
          "data": {
            "text/plain": [
              "0"
            ]
          },
          "execution_count": 17,
          "metadata": {},
          "output_type": "execute_result"
        }
      ],
      "source": [
        "# Cek data duplicate pada semua data\n",
        "df.duplicated().sum()"
      ]
    },
    {
      "cell_type": "markdown",
      "metadata": {},
      "source": [
        "Insight: data tidak ada yang duplicate"
      ]
    },
    {
      "cell_type": "markdown",
      "metadata": {
        "id": "d6dEBoq2hN-H"
      },
      "source": [
        "# 6-Data Cleaning"
      ]
    },
    {
      "cell_type": "markdown",
      "metadata": {
        "id": "mCRpa7rMhTuJ"
      },
      "source": [
        "## 6.1- Merubah Nama Kolom"
      ]
    },
    {
      "cell_type": "code",
      "execution_count": 18,
      "metadata": {},
      "outputs": [
        {
          "data": {
            "text/html": [
              "<div>\n",
              "<style scoped>\n",
              "    .dataframe tbody tr th:only-of-type {\n",
              "        vertical-align: middle;\n",
              "    }\n",
              "\n",
              "    .dataframe tbody tr th {\n",
              "        vertical-align: top;\n",
              "    }\n",
              "\n",
              "    .dataframe thead th {\n",
              "        text-align: right;\n",
              "    }\n",
              "</style>\n",
              "<table border=\"1\" class=\"dataframe\">\n",
              "  <thead>\n",
              "    <tr style=\"text-align: right;\">\n",
              "      <th></th>\n",
              "      <th>area_code</th>\n",
              "      <th>cogs</th>\n",
              "      <th>differencebetweenactualandtargetprofit</th>\n",
              "      <th>date</th>\n",
              "      <th>inventory_margin</th>\n",
              "      <th>margin</th>\n",
              "      <th>market_size</th>\n",
              "      <th>market</th>\n",
              "      <th>marketing</th>\n",
              "      <th>product_line</th>\n",
              "      <th>product_type</th>\n",
              "      <th>product</th>\n",
              "      <th>profit</th>\n",
              "      <th>sales</th>\n",
              "      <th>state</th>\n",
              "      <th>target_cogs</th>\n",
              "      <th>target_margin</th>\n",
              "      <th>target_profit</th>\n",
              "      <th>target_sales</th>\n",
              "      <th>total_expenses</th>\n",
              "      <th>type</th>\n",
              "    </tr>\n",
              "  </thead>\n",
              "  <tbody>\n",
              "    <tr>\n",
              "      <th>0</th>\n",
              "      <td>303</td>\n",
              "      <td>51</td>\n",
              "      <td>-35</td>\n",
              "      <td>10/1/2012</td>\n",
              "      <td>503</td>\n",
              "      <td>71</td>\n",
              "      <td>Major Market</td>\n",
              "      <td>Central</td>\n",
              "      <td>46</td>\n",
              "      <td>Leaves</td>\n",
              "      <td>Herbal Tea</td>\n",
              "      <td>Lemon</td>\n",
              "      <td>-5</td>\n",
              "      <td>122</td>\n",
              "      <td>Colorado</td>\n",
              "      <td>30</td>\n",
              "      <td>60</td>\n",
              "      <td>30</td>\n",
              "      <td>90</td>\n",
              "      <td>76</td>\n",
              "      <td>Decaf</td>\n",
              "    </tr>\n",
              "    <tr>\n",
              "      <th>1</th>\n",
              "      <td>970</td>\n",
              "      <td>52</td>\n",
              "      <td>-24</td>\n",
              "      <td>10/1/2012</td>\n",
              "      <td>405</td>\n",
              "      <td>71</td>\n",
              "      <td>Major Market</td>\n",
              "      <td>Central</td>\n",
              "      <td>17</td>\n",
              "      <td>Leaves</td>\n",
              "      <td>Herbal Tea</td>\n",
              "      <td>Mint</td>\n",
              "      <td>26</td>\n",
              "      <td>123</td>\n",
              "      <td>Colorado</td>\n",
              "      <td>30</td>\n",
              "      <td>60</td>\n",
              "      <td>50</td>\n",
              "      <td>90</td>\n",
              "      <td>45</td>\n",
              "      <td>Decaf</td>\n",
              "    </tr>\n",
              "    <tr>\n",
              "      <th>2</th>\n",
              "      <td>409</td>\n",
              "      <td>43</td>\n",
              "      <td>-22</td>\n",
              "      <td>10/2/2012</td>\n",
              "      <td>419</td>\n",
              "      <td>64</td>\n",
              "      <td>Major Market</td>\n",
              "      <td>South</td>\n",
              "      <td>13</td>\n",
              "      <td>Leaves</td>\n",
              "      <td>Herbal Tea</td>\n",
              "      <td>Lemon</td>\n",
              "      <td>28</td>\n",
              "      <td>107</td>\n",
              "      <td>Texas</td>\n",
              "      <td>30</td>\n",
              "      <td>60</td>\n",
              "      <td>50</td>\n",
              "      <td>90</td>\n",
              "      <td>36</td>\n",
              "      <td>Decaf</td>\n",
              "    </tr>\n",
              "    <tr>\n",
              "      <th>3</th>\n",
              "      <td>850</td>\n",
              "      <td>38</td>\n",
              "      <td>-15</td>\n",
              "      <td>10/3/2012</td>\n",
              "      <td>871</td>\n",
              "      <td>56</td>\n",
              "      <td>Major Market</td>\n",
              "      <td>East</td>\n",
              "      <td>10</td>\n",
              "      <td>Leaves</td>\n",
              "      <td>Tea</td>\n",
              "      <td>Darjeeling</td>\n",
              "      <td>35</td>\n",
              "      <td>94</td>\n",
              "      <td>Florida</td>\n",
              "      <td>40</td>\n",
              "      <td>60</td>\n",
              "      <td>50</td>\n",
              "      <td>100</td>\n",
              "      <td>21</td>\n",
              "      <td>Regular</td>\n",
              "    </tr>\n",
              "    <tr>\n",
              "      <th>4</th>\n",
              "      <td>562</td>\n",
              "      <td>72</td>\n",
              "      <td>6</td>\n",
              "      <td>10/4/2012</td>\n",
              "      <td>650</td>\n",
              "      <td>110</td>\n",
              "      <td>Major Market</td>\n",
              "      <td>West</td>\n",
              "      <td>23</td>\n",
              "      <td>Leaves</td>\n",
              "      <td>Tea</td>\n",
              "      <td>Green Tea</td>\n",
              "      <td>56</td>\n",
              "      <td>182</td>\n",
              "      <td>California</td>\n",
              "      <td>20</td>\n",
              "      <td>60</td>\n",
              "      <td>50</td>\n",
              "      <td>80</td>\n",
              "      <td>54</td>\n",
              "      <td>Regular</td>\n",
              "    </tr>\n",
              "    <tr>\n",
              "      <th>...</th>\n",
              "      <td>...</td>\n",
              "      <td>...</td>\n",
              "      <td>...</td>\n",
              "      <td>...</td>\n",
              "      <td>...</td>\n",
              "      <td>...</td>\n",
              "      <td>...</td>\n",
              "      <td>...</td>\n",
              "      <td>...</td>\n",
              "      <td>...</td>\n",
              "      <td>...</td>\n",
              "      <td>...</td>\n",
              "      <td>...</td>\n",
              "      <td>...</td>\n",
              "      <td>...</td>\n",
              "      <td>...</td>\n",
              "      <td>...</td>\n",
              "      <td>...</td>\n",
              "      <td>...</td>\n",
              "      <td>...</td>\n",
              "      <td>...</td>\n",
              "    </tr>\n",
              "    <tr>\n",
              "      <th>1057</th>\n",
              "      <td>775</td>\n",
              "      <td>250</td>\n",
              "      <td>133</td>\n",
              "      <td>8/23/2015</td>\n",
              "      <td>1820</td>\n",
              "      <td>251</td>\n",
              "      <td>Small Market</td>\n",
              "      <td>West</td>\n",
              "      <td>70</td>\n",
              "      <td>Leaves</td>\n",
              "      <td>Tea</td>\n",
              "      <td>Earl Grey</td>\n",
              "      <td>233</td>\n",
              "      <td>534</td>\n",
              "      <td>Nevada</td>\n",
              "      <td>180</td>\n",
              "      <td>180</td>\n",
              "      <td>100</td>\n",
              "      <td>360</td>\n",
              "      <td>94</td>\n",
              "      <td>Regular</td>\n",
              "    </tr>\n",
              "    <tr>\n",
              "      <th>1058</th>\n",
              "      <td>971</td>\n",
              "      <td>88</td>\n",
              "      <td>48</td>\n",
              "      <td>8/24/2015</td>\n",
              "      <td>817</td>\n",
              "      <td>133</td>\n",
              "      <td>Small Market</td>\n",
              "      <td>West</td>\n",
              "      <td>29</td>\n",
              "      <td>Leaves</td>\n",
              "      <td>Tea</td>\n",
              "      <td>Earl Grey</td>\n",
              "      <td>108</td>\n",
              "      <td>236</td>\n",
              "      <td>Oregon</td>\n",
              "      <td>60</td>\n",
              "      <td>100</td>\n",
              "      <td>60</td>\n",
              "      <td>160</td>\n",
              "      <td>60</td>\n",
              "      <td>Regular</td>\n",
              "    </tr>\n",
              "    <tr>\n",
              "      <th>1059</th>\n",
              "      <td>775</td>\n",
              "      <td>294</td>\n",
              "      <td>-285</td>\n",
              "      <td>8/25/2015</td>\n",
              "      <td>8252</td>\n",
              "      <td>-294</td>\n",
              "      <td>Small Market</td>\n",
              "      <td>West</td>\n",
              "      <td>111</td>\n",
              "      <td>Leaves</td>\n",
              "      <td>Tea</td>\n",
              "      <td>Green Tea</td>\n",
              "      <td>-605</td>\n",
              "      <td>33</td>\n",
              "      <td>Nevada</td>\n",
              "      <td>210</td>\n",
              "      <td>-210</td>\n",
              "      <td>-320</td>\n",
              "      <td>0</td>\n",
              "      <td>145</td>\n",
              "      <td>Regular</td>\n",
              "    </tr>\n",
              "    <tr>\n",
              "      <th>1060</th>\n",
              "      <td>503</td>\n",
              "      <td>134</td>\n",
              "      <td>80</td>\n",
              "      <td>8/26/2015</td>\n",
              "      <td>690</td>\n",
              "      <td>186</td>\n",
              "      <td>Small Market</td>\n",
              "      <td>West</td>\n",
              "      <td>41</td>\n",
              "      <td>Leaves</td>\n",
              "      <td>Tea</td>\n",
              "      <td>Green Tea</td>\n",
              "      <td>180</td>\n",
              "      <td>341</td>\n",
              "      <td>Oregon</td>\n",
              "      <td>90</td>\n",
              "      <td>140</td>\n",
              "      <td>100</td>\n",
              "      <td>230</td>\n",
              "      <td>65</td>\n",
              "      <td>Regular</td>\n",
              "    </tr>\n",
              "    <tr>\n",
              "      <th>1061</th>\n",
              "      <td>435</td>\n",
              "      <td>20</td>\n",
              "      <td>-22</td>\n",
              "      <td>8/27/2015</td>\n",
              "      <td>218</td>\n",
              "      <td>25</td>\n",
              "      <td>Small Market</td>\n",
              "      <td>West</td>\n",
              "      <td>7</td>\n",
              "      <td>Leaves</td>\n",
              "      <td>Tea</td>\n",
              "      <td>Green Tea</td>\n",
              "      <td>-22</td>\n",
              "      <td>48</td>\n",
              "      <td>Utah</td>\n",
              "      <td>10</td>\n",
              "      <td>20</td>\n",
              "      <td>0</td>\n",
              "      <td>30</td>\n",
              "      <td>40</td>\n",
              "      <td>Regular</td>\n",
              "    </tr>\n",
              "  </tbody>\n",
              "</table>\n",
              "<p>1062 rows × 21 columns</p>\n",
              "</div>"
            ],
            "text/plain": [
              "      area_code  cogs  differencebetweenactualandtargetprofit       date  \\\n",
              "0           303    51                                     -35  10/1/2012   \n",
              "1           970    52                                     -24  10/1/2012   \n",
              "2           409    43                                     -22  10/2/2012   \n",
              "3           850    38                                     -15  10/3/2012   \n",
              "4           562    72                                       6  10/4/2012   \n",
              "...         ...   ...                                     ...        ...   \n",
              "1057        775   250                                     133  8/23/2015   \n",
              "1058        971    88                                      48  8/24/2015   \n",
              "1059        775   294                                    -285  8/25/2015   \n",
              "1060        503   134                                      80  8/26/2015   \n",
              "1061        435    20                                     -22  8/27/2015   \n",
              "\n",
              "      inventory_margin  margin   market_size   market  marketing product_line  \\\n",
              "0                  503      71  Major Market  Central         46       Leaves   \n",
              "1                  405      71  Major Market  Central         17       Leaves   \n",
              "2                  419      64  Major Market    South         13       Leaves   \n",
              "3                  871      56  Major Market     East         10       Leaves   \n",
              "4                  650     110  Major Market     West         23       Leaves   \n",
              "...                ...     ...           ...      ...        ...          ...   \n",
              "1057              1820     251  Small Market     West         70       Leaves   \n",
              "1058               817     133  Small Market     West         29       Leaves   \n",
              "1059              8252    -294  Small Market     West        111       Leaves   \n",
              "1060               690     186  Small Market     West         41       Leaves   \n",
              "1061               218      25  Small Market     West          7       Leaves   \n",
              "\n",
              "     product_type     product  profit  sales       state  target_cogs  \\\n",
              "0      Herbal Tea       Lemon      -5    122    Colorado           30   \n",
              "1      Herbal Tea        Mint      26    123    Colorado           30   \n",
              "2      Herbal Tea       Lemon      28    107       Texas           30   \n",
              "3             Tea  Darjeeling      35     94     Florida           40   \n",
              "4             Tea   Green Tea      56    182  California           20   \n",
              "...           ...         ...     ...    ...         ...          ...   \n",
              "1057          Tea   Earl Grey     233    534      Nevada          180   \n",
              "1058          Tea   Earl Grey     108    236      Oregon           60   \n",
              "1059          Tea   Green Tea    -605     33      Nevada          210   \n",
              "1060          Tea   Green Tea     180    341      Oregon           90   \n",
              "1061          Tea   Green Tea     -22     48        Utah           10   \n",
              "\n",
              "      target_margin  target_profit  target_sales  total_expenses     type  \n",
              "0                60             30            90              76    Decaf  \n",
              "1                60             50            90              45    Decaf  \n",
              "2                60             50            90              36    Decaf  \n",
              "3                60             50           100              21  Regular  \n",
              "4                60             50            80              54  Regular  \n",
              "...             ...            ...           ...             ...      ...  \n",
              "1057            180            100           360              94  Regular  \n",
              "1058            100             60           160              60  Regular  \n",
              "1059           -210           -320             0             145  Regular  \n",
              "1060            140            100           230              65  Regular  \n",
              "1061             20              0            30              40  Regular  \n",
              "\n",
              "[1062 rows x 21 columns]"
            ]
          },
          "execution_count": 18,
          "metadata": {},
          "output_type": "execute_result"
        }
      ],
      "source": [
        "# Menghapus white space pada nama kolom\n",
        "df.columns = df.columns.str.strip()\n",
        "# Menghapus lower case pada nama kolom\n",
        "df.columns = df.columns.str.lower()\n",
        "# Menghapus spasi menjadi _ pada nama kolom\n",
        "df.columns = df.columns.str.replace(' ', '_')\n",
        "\n",
        "df"
      ]
    },
    {
      "cell_type": "markdown",
      "metadata": {},
      "source": [
        "## 6.2 Cleaning Missing Values"
      ]
    },
    {
      "cell_type": "markdown",
      "metadata": {
        "id": "OYUID6p9qiDq"
      },
      "source": [
        "### 6.2.1-Menghilangkan missing value"
      ]
    },
    {
      "cell_type": "code",
      "execution_count": 19,
      "metadata": {
        "id": "uhzdc8SwhYgm"
      },
      "outputs": [],
      "source": [
        "# df.dropna()\n",
        "# df = isna().sum()"
      ]
    },
    {
      "cell_type": "markdown",
      "metadata": {
        "id": "whZHURnRqnv5"
      },
      "source": [
        "### 6.2.2-Filling Missing Value"
      ]
    },
    {
      "cell_type": "code",
      "execution_count": null,
      "metadata": {
        "id": "r6sYOlRtqsQ7"
      },
      "outputs": [],
      "source": []
    },
    {
      "cell_type": "markdown",
      "metadata": {
        "id": "mexJ8tSohY8J"
      },
      "source": [
        "## 6.3-Inconsistent Type"
      ]
    },
    {
      "cell_type": "markdown",
      "metadata": {
        "id": "c4DEkb547zxW"
      },
      "source": [
        "### 6.3.1-Changing Data type date from object to datetime"
      ]
    },
    {
      "cell_type": "code",
      "execution_count": 20,
      "metadata": {
        "id": "FNh2PhTShgW_"
      },
      "outputs": [],
      "source": [
        "# ubah kolom date tipe data objek ke tipe data datetime\n",
        "df['date'] = pd.to_datetime(df['date'])"
      ]
    },
    {
      "cell_type": "code",
      "execution_count": 21,
      "metadata": {},
      "outputs": [
        {
          "name": "stdout",
          "output_type": "stream",
          "text": [
            "<class 'pandas.core.frame.DataFrame'>\n",
            "RangeIndex: 1062 entries, 0 to 1061\n",
            "Data columns (total 21 columns):\n",
            " #   Column                                  Non-Null Count  Dtype         \n",
            "---  ------                                  --------------  -----         \n",
            " 0   area_code                               1062 non-null   int64         \n",
            " 1   cogs                                    1062 non-null   int64         \n",
            " 2   differencebetweenactualandtargetprofit  1062 non-null   int64         \n",
            " 3   date                                    1062 non-null   datetime64[ns]\n",
            " 4   inventory_margin                        1062 non-null   int64         \n",
            " 5   margin                                  1062 non-null   int64         \n",
            " 6   market_size                             1062 non-null   object        \n",
            " 7   market                                  1062 non-null   object        \n",
            " 8   marketing                               1062 non-null   int64         \n",
            " 9   product_line                            1062 non-null   object        \n",
            " 10  product_type                            1062 non-null   object        \n",
            " 11  product                                 1062 non-null   object        \n",
            " 12  profit                                  1062 non-null   int64         \n",
            " 13  sales                                   1062 non-null   int64         \n",
            " 14  state                                   1062 non-null   object        \n",
            " 15  target_cogs                             1062 non-null   int64         \n",
            " 16  target_margin                           1062 non-null   int64         \n",
            " 17  target_profit                           1062 non-null   int64         \n",
            " 18  target_sales                            1062 non-null   int64         \n",
            " 19  total_expenses                          1062 non-null   int64         \n",
            " 20  type                                    1062 non-null   object        \n",
            "dtypes: datetime64[ns](1), int64(13), object(7)\n",
            "memory usage: 174.4+ KB\n"
          ]
        }
      ],
      "source": [
        "# Mengecek setelah mengganti tipe data date yg objek menjadi date time\n",
        "df.info()"
      ]
    },
    {
      "cell_type": "markdown",
      "metadata": {
        "id": "nwOG04v9rv1N"
      },
      "source": [
        "## 6.4-Drop Column"
      ]
    },
    {
      "cell_type": "code",
      "execution_count": 22,
      "metadata": {},
      "outputs": [
        {
          "data": {
            "text/plain": [
              "Index(['area_code', 'cogs', 'differencebetweenactualandtargetprofit', 'date',\n",
              "       'inventory_margin', 'margin', 'market_size', 'market', 'marketing',\n",
              "       'product_line', 'product_type', 'product', 'profit', 'sales', 'state',\n",
              "       'target_cogs', 'target_margin', 'target_profit', 'target_sales',\n",
              "       'total_expenses', 'type'],\n",
              "      dtype='object')"
            ]
          },
          "execution_count": 22,
          "metadata": {},
          "output_type": "execute_result"
        }
      ],
      "source": [
        "# Cek kolom sebelum di drop\n",
        "df.columns"
      ]
    },
    {
      "cell_type": "code",
      "execution_count": 23,
      "metadata": {
        "id": "xDA3bLx7rz2n"
      },
      "outputs": [
        {
          "data": {
            "text/html": [
              "<div>\n",
              "<style scoped>\n",
              "    .dataframe tbody tr th:only-of-type {\n",
              "        vertical-align: middle;\n",
              "    }\n",
              "\n",
              "    .dataframe tbody tr th {\n",
              "        vertical-align: top;\n",
              "    }\n",
              "\n",
              "    .dataframe thead th {\n",
              "        text-align: right;\n",
              "    }\n",
              "</style>\n",
              "<table border=\"1\" class=\"dataframe\">\n",
              "  <thead>\n",
              "    <tr style=\"text-align: right;\">\n",
              "      <th></th>\n",
              "      <th>area_code</th>\n",
              "      <th>cogs</th>\n",
              "      <th>differencebetweenactualandtargetprofit</th>\n",
              "      <th>date</th>\n",
              "      <th>inventory_margin</th>\n",
              "      <th>margin</th>\n",
              "      <th>market_size</th>\n",
              "      <th>market</th>\n",
              "      <th>marketing</th>\n",
              "      <th>product_line</th>\n",
              "      <th>product_type</th>\n",
              "      <th>product</th>\n",
              "      <th>profit</th>\n",
              "      <th>sales</th>\n",
              "      <th>state</th>\n",
              "      <th>total_expenses</th>\n",
              "      <th>type</th>\n",
              "    </tr>\n",
              "  </thead>\n",
              "  <tbody>\n",
              "    <tr>\n",
              "      <th>0</th>\n",
              "      <td>303</td>\n",
              "      <td>51</td>\n",
              "      <td>-35</td>\n",
              "      <td>2012-10-01</td>\n",
              "      <td>503</td>\n",
              "      <td>71</td>\n",
              "      <td>Major Market</td>\n",
              "      <td>Central</td>\n",
              "      <td>46</td>\n",
              "      <td>Leaves</td>\n",
              "      <td>Herbal Tea</td>\n",
              "      <td>Lemon</td>\n",
              "      <td>-5</td>\n",
              "      <td>122</td>\n",
              "      <td>Colorado</td>\n",
              "      <td>76</td>\n",
              "      <td>Decaf</td>\n",
              "    </tr>\n",
              "    <tr>\n",
              "      <th>1</th>\n",
              "      <td>970</td>\n",
              "      <td>52</td>\n",
              "      <td>-24</td>\n",
              "      <td>2012-10-01</td>\n",
              "      <td>405</td>\n",
              "      <td>71</td>\n",
              "      <td>Major Market</td>\n",
              "      <td>Central</td>\n",
              "      <td>17</td>\n",
              "      <td>Leaves</td>\n",
              "      <td>Herbal Tea</td>\n",
              "      <td>Mint</td>\n",
              "      <td>26</td>\n",
              "      <td>123</td>\n",
              "      <td>Colorado</td>\n",
              "      <td>45</td>\n",
              "      <td>Decaf</td>\n",
              "    </tr>\n",
              "    <tr>\n",
              "      <th>2</th>\n",
              "      <td>409</td>\n",
              "      <td>43</td>\n",
              "      <td>-22</td>\n",
              "      <td>2012-10-02</td>\n",
              "      <td>419</td>\n",
              "      <td>64</td>\n",
              "      <td>Major Market</td>\n",
              "      <td>South</td>\n",
              "      <td>13</td>\n",
              "      <td>Leaves</td>\n",
              "      <td>Herbal Tea</td>\n",
              "      <td>Lemon</td>\n",
              "      <td>28</td>\n",
              "      <td>107</td>\n",
              "      <td>Texas</td>\n",
              "      <td>36</td>\n",
              "      <td>Decaf</td>\n",
              "    </tr>\n",
              "    <tr>\n",
              "      <th>3</th>\n",
              "      <td>850</td>\n",
              "      <td>38</td>\n",
              "      <td>-15</td>\n",
              "      <td>2012-10-03</td>\n",
              "      <td>871</td>\n",
              "      <td>56</td>\n",
              "      <td>Major Market</td>\n",
              "      <td>East</td>\n",
              "      <td>10</td>\n",
              "      <td>Leaves</td>\n",
              "      <td>Tea</td>\n",
              "      <td>Darjeeling</td>\n",
              "      <td>35</td>\n",
              "      <td>94</td>\n",
              "      <td>Florida</td>\n",
              "      <td>21</td>\n",
              "      <td>Regular</td>\n",
              "    </tr>\n",
              "    <tr>\n",
              "      <th>4</th>\n",
              "      <td>562</td>\n",
              "      <td>72</td>\n",
              "      <td>6</td>\n",
              "      <td>2012-10-04</td>\n",
              "      <td>650</td>\n",
              "      <td>110</td>\n",
              "      <td>Major Market</td>\n",
              "      <td>West</td>\n",
              "      <td>23</td>\n",
              "      <td>Leaves</td>\n",
              "      <td>Tea</td>\n",
              "      <td>Green Tea</td>\n",
              "      <td>56</td>\n",
              "      <td>182</td>\n",
              "      <td>California</td>\n",
              "      <td>54</td>\n",
              "      <td>Regular</td>\n",
              "    </tr>\n",
              "    <tr>\n",
              "      <th>...</th>\n",
              "      <td>...</td>\n",
              "      <td>...</td>\n",
              "      <td>...</td>\n",
              "      <td>...</td>\n",
              "      <td>...</td>\n",
              "      <td>...</td>\n",
              "      <td>...</td>\n",
              "      <td>...</td>\n",
              "      <td>...</td>\n",
              "      <td>...</td>\n",
              "      <td>...</td>\n",
              "      <td>...</td>\n",
              "      <td>...</td>\n",
              "      <td>...</td>\n",
              "      <td>...</td>\n",
              "      <td>...</td>\n",
              "      <td>...</td>\n",
              "    </tr>\n",
              "    <tr>\n",
              "      <th>1057</th>\n",
              "      <td>775</td>\n",
              "      <td>250</td>\n",
              "      <td>133</td>\n",
              "      <td>2015-08-23</td>\n",
              "      <td>1820</td>\n",
              "      <td>251</td>\n",
              "      <td>Small Market</td>\n",
              "      <td>West</td>\n",
              "      <td>70</td>\n",
              "      <td>Leaves</td>\n",
              "      <td>Tea</td>\n",
              "      <td>Earl Grey</td>\n",
              "      <td>233</td>\n",
              "      <td>534</td>\n",
              "      <td>Nevada</td>\n",
              "      <td>94</td>\n",
              "      <td>Regular</td>\n",
              "    </tr>\n",
              "    <tr>\n",
              "      <th>1058</th>\n",
              "      <td>971</td>\n",
              "      <td>88</td>\n",
              "      <td>48</td>\n",
              "      <td>2015-08-24</td>\n",
              "      <td>817</td>\n",
              "      <td>133</td>\n",
              "      <td>Small Market</td>\n",
              "      <td>West</td>\n",
              "      <td>29</td>\n",
              "      <td>Leaves</td>\n",
              "      <td>Tea</td>\n",
              "      <td>Earl Grey</td>\n",
              "      <td>108</td>\n",
              "      <td>236</td>\n",
              "      <td>Oregon</td>\n",
              "      <td>60</td>\n",
              "      <td>Regular</td>\n",
              "    </tr>\n",
              "    <tr>\n",
              "      <th>1059</th>\n",
              "      <td>775</td>\n",
              "      <td>294</td>\n",
              "      <td>-285</td>\n",
              "      <td>2015-08-25</td>\n",
              "      <td>8252</td>\n",
              "      <td>-294</td>\n",
              "      <td>Small Market</td>\n",
              "      <td>West</td>\n",
              "      <td>111</td>\n",
              "      <td>Leaves</td>\n",
              "      <td>Tea</td>\n",
              "      <td>Green Tea</td>\n",
              "      <td>-605</td>\n",
              "      <td>33</td>\n",
              "      <td>Nevada</td>\n",
              "      <td>145</td>\n",
              "      <td>Regular</td>\n",
              "    </tr>\n",
              "    <tr>\n",
              "      <th>1060</th>\n",
              "      <td>503</td>\n",
              "      <td>134</td>\n",
              "      <td>80</td>\n",
              "      <td>2015-08-26</td>\n",
              "      <td>690</td>\n",
              "      <td>186</td>\n",
              "      <td>Small Market</td>\n",
              "      <td>West</td>\n",
              "      <td>41</td>\n",
              "      <td>Leaves</td>\n",
              "      <td>Tea</td>\n",
              "      <td>Green Tea</td>\n",
              "      <td>180</td>\n",
              "      <td>341</td>\n",
              "      <td>Oregon</td>\n",
              "      <td>65</td>\n",
              "      <td>Regular</td>\n",
              "    </tr>\n",
              "    <tr>\n",
              "      <th>1061</th>\n",
              "      <td>435</td>\n",
              "      <td>20</td>\n",
              "      <td>-22</td>\n",
              "      <td>2015-08-27</td>\n",
              "      <td>218</td>\n",
              "      <td>25</td>\n",
              "      <td>Small Market</td>\n",
              "      <td>West</td>\n",
              "      <td>7</td>\n",
              "      <td>Leaves</td>\n",
              "      <td>Tea</td>\n",
              "      <td>Green Tea</td>\n",
              "      <td>-22</td>\n",
              "      <td>48</td>\n",
              "      <td>Utah</td>\n",
              "      <td>40</td>\n",
              "      <td>Regular</td>\n",
              "    </tr>\n",
              "  </tbody>\n",
              "</table>\n",
              "<p>1062 rows × 17 columns</p>\n",
              "</div>"
            ],
            "text/plain": [
              "      area_code  cogs  differencebetweenactualandtargetprofit       date  \\\n",
              "0           303    51                                     -35 2012-10-01   \n",
              "1           970    52                                     -24 2012-10-01   \n",
              "2           409    43                                     -22 2012-10-02   \n",
              "3           850    38                                     -15 2012-10-03   \n",
              "4           562    72                                       6 2012-10-04   \n",
              "...         ...   ...                                     ...        ...   \n",
              "1057        775   250                                     133 2015-08-23   \n",
              "1058        971    88                                      48 2015-08-24   \n",
              "1059        775   294                                    -285 2015-08-25   \n",
              "1060        503   134                                      80 2015-08-26   \n",
              "1061        435    20                                     -22 2015-08-27   \n",
              "\n",
              "      inventory_margin  margin   market_size   market  marketing product_line  \\\n",
              "0                  503      71  Major Market  Central         46       Leaves   \n",
              "1                  405      71  Major Market  Central         17       Leaves   \n",
              "2                  419      64  Major Market    South         13       Leaves   \n",
              "3                  871      56  Major Market     East         10       Leaves   \n",
              "4                  650     110  Major Market     West         23       Leaves   \n",
              "...                ...     ...           ...      ...        ...          ...   \n",
              "1057              1820     251  Small Market     West         70       Leaves   \n",
              "1058               817     133  Small Market     West         29       Leaves   \n",
              "1059              8252    -294  Small Market     West        111       Leaves   \n",
              "1060               690     186  Small Market     West         41       Leaves   \n",
              "1061               218      25  Small Market     West          7       Leaves   \n",
              "\n",
              "     product_type     product  profit  sales       state  total_expenses  \\\n",
              "0      Herbal Tea       Lemon      -5    122    Colorado              76   \n",
              "1      Herbal Tea        Mint      26    123    Colorado              45   \n",
              "2      Herbal Tea       Lemon      28    107       Texas              36   \n",
              "3             Tea  Darjeeling      35     94     Florida              21   \n",
              "4             Tea   Green Tea      56    182  California              54   \n",
              "...           ...         ...     ...    ...         ...             ...   \n",
              "1057          Tea   Earl Grey     233    534      Nevada              94   \n",
              "1058          Tea   Earl Grey     108    236      Oregon              60   \n",
              "1059          Tea   Green Tea    -605     33      Nevada             145   \n",
              "1060          Tea   Green Tea     180    341      Oregon              65   \n",
              "1061          Tea   Green Tea     -22     48        Utah              40   \n",
              "\n",
              "         type  \n",
              "0       Decaf  \n",
              "1       Decaf  \n",
              "2       Decaf  \n",
              "3     Regular  \n",
              "4     Regular  \n",
              "...       ...  \n",
              "1057  Regular  \n",
              "1058  Regular  \n",
              "1059  Regular  \n",
              "1060  Regular  \n",
              "1061  Regular  \n",
              "\n",
              "[1062 rows x 17 columns]"
            ]
          },
          "execution_count": 23,
          "metadata": {},
          "output_type": "execute_result"
        }
      ],
      "source": [
        "# Penghapusan kolom 'target_cogs', 'target_margin', 'target_profit' & 'target_sales karena tidak digunakan\n",
        "df.drop(['target_cogs', 'target_margin', 'target_profit', 'target_sales'], axis=1, inplace= True)\n",
        "df"
      ]
    },
    {
      "cell_type": "markdown",
      "metadata": {
        "id": "3onm7SUrhij_"
      },
      "source": [
        "# 7-EDA"
      ]
    },
    {
      "cell_type": "markdown",
      "metadata": {
        "id": "JZ5tJ7sThm9A"
      },
      "source": [
        "## 7.1- Produk apa paling banyak memberikan keuntungan?"
      ]
    },
    {
      "cell_type": "code",
      "execution_count": 24,
      "metadata": {},
      "outputs": [
        {
          "data": {
            "text/plain": [
              "product\n",
              "Amaretto              1352\n",
              "Caffe Latte           2716\n",
              "Caffe Mocha           4687\n",
              "Chamomile             7006\n",
              "Colombian            12932\n",
              "Darjeeling            6976\n",
              "Decaf Espresso        7039\n",
              "Decaf Irish Cream     3201\n",
              "Earl Grey             5975\n",
              "Green Tea               89\n",
              "Lemon                 7614\n",
              "Mint                  1286\n",
              "Regular Espresso      3438\n",
              "Name: profit, dtype: int64"
            ]
          },
          "execution_count": 24,
          "metadata": {},
          "output_type": "execute_result"
        }
      ],
      "source": [
        "# Mengelompokkan data berdasarkan 'Product' dan menghitung total profit setiap produk\n",
        "total_profit_tiap_produk = df.groupby('product')['profit'].sum()\n",
        "total_profit_tiap_produk"
      ]
    },
    {
      "cell_type": "code",
      "execution_count": 25,
      "metadata": {},
      "outputs": [
        {
          "data": {
            "text/plain": [
              "product\n",
              "Colombian            12932\n",
              "Lemon                 7614\n",
              "Decaf Espresso        7039\n",
              "Chamomile             7006\n",
              "Darjeeling            6976\n",
              "Earl Grey             5975\n",
              "Caffe Mocha           4687\n",
              "Regular Espresso      3438\n",
              "Decaf Irish Cream     3201\n",
              "Caffe Latte           2716\n",
              "Amaretto              1352\n",
              "Mint                  1286\n",
              "Green Tea               89\n",
              "Name: profit, dtype: int64"
            ]
          },
          "execution_count": 25,
          "metadata": {},
          "output_type": "execute_result"
        }
      ],
      "source": [
        "# Mengurutkan DataFrame berdasarkan total profit secara menurun\n",
        "df_sorted_byprofit = total_profit_tiap_produk.sort_values(ascending=False)\n",
        "df_sorted_byprofit"
      ]
    },
    {
      "cell_type": "code",
      "execution_count": 26,
      "metadata": {},
      "outputs": [
        {
          "data": {
            "image/png": "[encoded data removed]",
            "text/plain": [
              "<Figure size 1000x600 with 1 Axes>"
            ]
          },
          "metadata": {},
          "output_type": "display_data"
        }
      ],
      "source": [
        "# Membuat plot bar untuk visualisasi profit produk\n",
        "plt.figure(figsize=(10, 6))\n",
        "df_sorted_byprofit.plot(kind='bar', color='green')\n",
        "plt.title('Profit Produk')\n",
        "plt.xlabel('Produk')\n",
        "plt.ylabel('Total Profit')\n",
        "plt.show()"
      ]
    },
    {
      "cell_type": "markdown",
      "metadata": {},
      "source": [
        "Insight: \n",
        "\n",
        "Produk paling banyak menguntungkan adalah Colombian, kemudian yang kedua lemon, selanjutnya Decaf Espresso, Chamomile dan Darjeeling. "
      ]
    },
    {
      "cell_type": "markdown",
      "metadata": {},
      "source": [
        "## 7.2-Produk apa paling banyak terjual?"
      ]
    },
    {
      "cell_type": "code",
      "execution_count": 27,
      "metadata": {},
      "outputs": [
        {
          "data": {
            "text/plain": [
              "product\n",
              "Amaretto              6781\n",
              "Caffe Latte           8665\n",
              "Caffe Mocha          21716\n",
              "Chamomile            19295\n",
              "Colombian            30761\n",
              "Darjeeling           17758\n",
              "Decaf Espresso       18888\n",
              "Decaf Irish Cream    14831\n",
              "Earl Grey            16546\n",
              "Green Tea             8520\n",
              "Lemon                24048\n",
              "Mint                  8342\n",
              "Regular Espresso      6744\n",
              "Name: sales, dtype: int64"
            ]
          },
          "execution_count": 27,
          "metadata": {},
          "output_type": "execute_result"
        }
      ],
      "source": [
        "# Mengelompokkan data berdasarkan 'Product' dan menghitung total penjualan setiap produk\n",
        "total_penjualan_tiap_produk = df.groupby('product')['sales'].sum()\n",
        "total_penjualan_tiap_produk"
      ]
    },
    {
      "cell_type": "code",
      "execution_count": 28,
      "metadata": {},
      "outputs": [
        {
          "data": {
            "text/plain": [
              "product\n",
              "Colombian            30761\n",
              "Lemon                24048\n",
              "Caffe Mocha          21716\n",
              "Chamomile            19295\n",
              "Decaf Espresso       18888\n",
              "Darjeeling           17758\n",
              "Earl Grey            16546\n",
              "Decaf Irish Cream    14831\n",
              "Caffe Latte           8665\n",
              "Green Tea             8520\n",
              "Mint                  8342\n",
              "Amaretto              6781\n",
              "Regular Espresso      6744\n",
              "Name: sales, dtype: int64"
            ]
          },
          "execution_count": 28,
          "metadata": {},
          "output_type": "execute_result"
        }
      ],
      "source": [
        "# Mengurutkan DataFrame berdasarkan total sales\n",
        "df_sorted_by_sales = total_penjualan_tiap_produk.sort_values(ascending=False)\n",
        "df_sorted_by_sales"
      ]
    },
    {
      "cell_type": "code",
      "execution_count": 29,
      "metadata": {},
      "outputs": [
        {
          "data": {
            "image/png": "[encoded data removed]",
            "text/plain": [
              "<Figure size 1000x600 with 1 Axes>"
            ]
          },
          "metadata": {},
          "output_type": "display_data"
        }
      ],
      "source": [
        "# Membuat plot bar untuk visualisasi penjualan produk\n",
        "plt.figure(figsize=(10, 6))\n",
        "df_sorted_by_sales.plot(kind='bar', color='skyblue')\n",
        "plt.title('Penjualan Produk')\n",
        "plt.xlabel('Produk')\n",
        "plt.ylabel('Total Penjualan')\n",
        "plt.show()"
      ]
    },
    {
      "cell_type": "markdown",
      "metadata": {},
      "source": [
        "Insight: \n",
        "\n",
        "5 produk paling banyak terjual adalah yang pertama Colombian, selanjutnya Lemon, Caffe Mocha, Chamomile, dan Decaf Espresso."
      ]
    },
    {
      "cell_type": "markdown",
      "metadata": {},
      "source": [
        "## 7.3-Dimana state paling banyak memberikan keuntungan?"
      ]
    },
    {
      "cell_type": "code",
      "execution_count": 30,
      "metadata": {},
      "outputs": [
        {
          "data": {
            "text/plain": [
              "state\n",
              "Illinois         7380\n",
              "California       7340\n",
              "New York         5565\n",
              "Iowa             5412\n",
              "Colorado         4450\n",
              "Texas            3803\n",
              "Massachusetts    3710\n",
              "Oregon           3309\n",
              "Washington       2865\n",
              "Florida          2794\n",
              "Ohio             2766\n",
              "Nevada           2556\n",
              "Oklahoma         2351\n",
              "Utah             2199\n",
              "Connecticut      2066\n",
              "Louisiana        2026\n",
              "Wisconsin        1937\n",
              "Missouri          956\n",
              "New Hampshire     610\n",
              "New Mexico        216\n",
              "Name: profit, dtype: int64"
            ]
          },
          "execution_count": 30,
          "metadata": {},
          "output_type": "execute_result"
        }
      ],
      "source": [
        "# Mengelompokkan data berdasarkan state dan menghitung total profit\n",
        "totalprofit_state = df.groupby('state')['profit'].sum()\n",
        "# Mengurutkan berdasarkan total profit\n",
        "df_sorted_totalprofit_state = totalprofit_state.sort_values(ascending=False)\n",
        "df_sorted_totalprofit_state"
      ]
    },
    {
      "cell_type": "code",
      "execution_count": 31,
      "metadata": {},
      "outputs": [
        {
          "data": {
            "image/png": "[encoded data removed]",
            "text/plain": [
              "<Figure size 1000x600 with 1 Axes>"
            ]
          },
          "metadata": {},
          "output_type": "display_data"
        }
      ],
      "source": [
        "# Visualisasi keuntungan tiap state dengan Horizontal bar chart\n",
        "plt.figure(figsize=(10, 6))\n",
        "df_sorted_totalprofit_state.plot(kind='barh', color='brown')\n",
        "plt.title('Total Profit Tiap State')\n",
        "plt.xlabel('Total profit')\n",
        "plt.ylabel('State')\n",
        "plt.show()"
      ]
    },
    {
      "cell_type": "markdown",
      "metadata": {},
      "source": [
        "Insight:\n",
        "\n",
        "Dari visualisasi 5 state yang paling banyak memberikan keuntungan Illinois, California, New York, Iowa, & Colardo "
      ]
    },
    {
      "cell_type": "markdown",
      "metadata": {},
      "source": [
        "## 7.4-Dimana state paling banyak melakukan penjualan?"
      ]
    },
    {
      "cell_type": "code",
      "execution_count": 32,
      "metadata": {},
      "outputs": [
        {
          "data": {
            "text/plain": [
              "state\n",
              "California       23032\n",
              "New York         17731\n",
              "Illinois         16812\n",
              "Nevada           14822\n",
              "Iowa             13359\n",
              "Colorado         12112\n",
              "Oregon           10661\n",
              "Washington        9744\n",
              "Utah              9159\n",
              "Texas             9092\n",
              "Florida           8825\n",
              "Ohio              8787\n",
              "Wisconsin         7839\n",
              "Massachusetts     7339\n",
              "Oklahoma          7298\n",
              "Connecticut       6670\n",
              "Louisiana         6193\n",
              "Missouri          6072\n",
              "New Mexico        3805\n",
              "New Hampshire     3543\n",
              "Name: sales, dtype: int64"
            ]
          },
          "execution_count": 32,
          "metadata": {},
          "output_type": "execute_result"
        }
      ],
      "source": [
        "# Mengelompokkan data berdasarkan state dan menghitung total profit\n",
        "totalsales_state = df.groupby('state')['sales'].sum()\n",
        "# Mengurutkan berdasarkan total profit\n",
        "df_sorted_totalsales_state = totalsales_state.sort_values(ascending=False)\n",
        "df_sorted_totalsales_state"
      ]
    },
    {
      "cell_type": "code",
      "execution_count": 33,
      "metadata": {},
      "outputs": [
        {
          "data": {
            "image/png": "[encoded data removed]",
            "text/plain": [
              "<Figure size 1000x600 with 1 Axes>"
            ]
          },
          "metadata": {},
          "output_type": "display_data"
        }
      ],
      "source": [
        "# Visualisasi sales tiap state dengan Horizontal bar chart\n",
        "plt.figure(figsize=(10, 6))\n",
        "df_sorted_totalsales_state.plot(kind='barh', color='purple')\n",
        "plt.title('Total Sales Tiap State')\n",
        "plt.xlabel('Total Sales')\n",
        "plt.ylabel('State')\n",
        "plt.show()"
      ]
    },
    {
      "cell_type": "markdown",
      "metadata": {},
      "source": [
        "Insight:\n",
        "\n",
        "Dari visualisasi 5 state yang paling banyak melakukan penjualan California, New York, Illinois, Iowa, & Colardo "
      ]
    },
    {
      "cell_type": "markdown",
      "metadata": {},
      "source": [
        "## 7.5-Dari 5 state paling banyak profit, produk apa yang paling profit dari masing-masing state?"
      ]
    },
    {
      "cell_type": "code",
      "execution_count": 34,
      "metadata": {},
      "outputs": [
        {
          "data": {
            "text/plain": [
              "product\n",
              "Caffe Mocha          1580\n",
              "Colombian            1125\n",
              "Decaf Espresso       1080\n",
              "Chamomile             975\n",
              "Decaf Irish Cream     852\n",
              "Mint                  716\n",
              "Darjeeling            445\n",
              "Earl Grey             401\n",
              "Lemon                 206\n",
              "Name: profit, dtype: int64"
            ]
          },
          "execution_count": 34,
          "metadata": {},
          "output_type": "execute_result"
        }
      ],
      "source": [
        "# Illinois\n",
        "# Filter produk di State Illinois\n",
        "df_il = df[df['state'] == 'Illinois']\n",
        "# Mengelompokkan data berdasarkan produk dan menghitung total keuntungan di Illinois\n",
        "total_keuntungan_per_produk_il = df_il.groupby('product')['profit'].sum()\n",
        "# Mengurutkan nilai keuntungan secara descending dan mengambil produk pertama\n",
        "produk_tertinggi_il = total_keuntungan_per_produk_il.sort_values(ascending=False)\n",
        "produk_tertinggi_il"
      ]
    },
    {
      "cell_type": "code",
      "execution_count": 35,
      "metadata": {},
      "outputs": [
        {
          "data": {
            "image/png": "[encoded data removed]",
            "text/plain": [
              "<Figure size 1000x600 with 1 Axes>"
            ]
          },
          "metadata": {},
          "output_type": "display_data"
        }
      ],
      "source": [
        "# Membuat plot bar untuk visualisasi total keuntungan per produk di Illinois\n",
        "plt.figure(figsize=(10, 6))\n",
        "produk_tertinggi_il.plot(kind='bar', color='green')\n",
        "plt.title('Total Profit per Produk di State Illinois')\n",
        "plt.xlabel('Produk')\n",
        "plt.ylabel('Total Profit')\n",
        "plt.show()"
      ]
    },
    {
      "cell_type": "markdown",
      "metadata": {},
      "source": [
        "Insight: \n",
        "\n",
        "Produk dengan profit paling tinggi di illinois adalah Caffe Mocha"
      ]
    },
    {
      "cell_type": "code",
      "execution_count": 36,
      "metadata": {},
      "outputs": [
        {
          "data": {
            "text/plain": [
              "product\n",
              "Colombian            1871\n",
              "Decaf Espresso       1585\n",
              "Lemon                1361\n",
              "Caffe Latte          1080\n",
              "Darjeeling            984\n",
              "Chamomile             716\n",
              "Earl Grey             445\n",
              "Green Tea             403\n",
              "Caffe Mocha           209\n",
              "Mint                  204\n",
              "Amaretto             -542\n",
              "Decaf Irish Cream    -976\n",
              "Name: profit, dtype: int64"
            ]
          },
          "execution_count": 36,
          "metadata": {},
          "output_type": "execute_result"
        }
      ],
      "source": [
        "# California\n",
        "# Filter produk di State California \n",
        "df_ca = df[df['state'] == 'California']\n",
        "# Mengelompokkan data berdasarkan produk dan menghitung total keuntungan di CA\n",
        "total_keuntungan_per_produk_ca = df_ca.groupby('product')['profit'].sum()\n",
        "# Mengurutkan nilai keuntungan secara descending dan mengambil produk pertama\n",
        "produk_tertinggi_ca = total_keuntungan_per_produk_ca.sort_values(ascending=False)\n",
        "produk_tertinggi_ca"
      ]
    },
    {
      "cell_type": "code",
      "execution_count": 37,
      "metadata": {},
      "outputs": [
        {
          "data": {
            "image/png": "[encoded data removed]",
            "text/plain": [
              "<Figure size 1000x600 with 1 Axes>"
            ]
          },
          "metadata": {},
          "output_type": "display_data"
        }
      ],
      "source": [
        "# Membuat plot bar untuk visualisasi total keuntungan per produk di California\n",
        "plt.figure(figsize=(10, 6))\n",
        "produk_tertinggi_ca.plot(kind='bar', color='black')\n",
        "plt.title('Total Profit per Produk di State California')\n",
        "plt.xlabel('Produk')\n",
        "plt.ylabel('Total Profit')\n",
        "plt.show()"
      ]
    },
    {
      "cell_type": "markdown",
      "metadata": {},
      "source": [
        "Insight: \n",
        "\n",
        "Produk dengan profit paling tinggi di California adalah Colombian"
      ]
    },
    {
      "cell_type": "code",
      "execution_count": 38,
      "metadata": {},
      "outputs": [
        {
          "data": {
            "text/plain": [
              "product\n",
              "Regular Espresso    2802\n",
              "Colombian           1873\n",
              "Lemon               1595\n",
              "Earl Grey            978\n",
              "Darjeeling           716\n",
              "Green Tea            440\n",
              "Mint               -1279\n",
              "Caffe Mocha        -1560\n",
              "Name: profit, dtype: int64"
            ]
          },
          "execution_count": 38,
          "metadata": {},
          "output_type": "execute_result"
        }
      ],
      "source": [
        "# New York\n",
        "# Filter produk di State New York\n",
        "df_ny = df[df['state'] == 'New York']\n",
        "# Mengelompokkan data berdasarkan produk dan menghitung total keuntungan di CA\n",
        "total_keuntungan_per_produk_ny = df_ny.groupby('product')['profit'].sum()\n",
        "# Mengurutkan nilai keuntungan secara descending dan mengambil produk pertama\n",
        "produk_tertinggi_ny = total_keuntungan_per_produk_ny.sort_values(ascending=False)\n",
        "produk_tertinggi_ny"
      ]
    },
    {
      "cell_type": "code",
      "execution_count": 39,
      "metadata": {},
      "outputs": [
        {
          "data": {
            "image/png": "[encoded data removed]",
            "text/plain": [
              "<Figure size 1000x600 with 1 Axes>"
            ]
          },
          "metadata": {},
          "output_type": "display_data"
        }
      ],
      "source": [
        "# Membuat plot bar untuk visualisasi total keuntungan per produk di New York\n",
        "plt.figure(figsize=(10, 6))\n",
        "produk_tertinggi_ny.plot(kind='bar', color='brown')\n",
        "plt.title('Total Profit per Produk di State New York')\n",
        "plt.xlabel('Produk')\n",
        "plt.ylabel('Total Profit')\n",
        "plt.show()"
      ]
    },
    {
      "cell_type": "markdown",
      "metadata": {},
      "source": [
        "Insight: \n",
        "\n",
        "Produk dengan profit paling tinggi di New York adalah Regular Espresso "
      ]
    },
    {
      "cell_type": "code",
      "execution_count": 40,
      "metadata": {},
      "outputs": [
        {
          "data": {
            "text/plain": [
              "product\n",
              "Chamomile            1580\n",
              "Earl Grey            1422\n",
              "Darjeeling           1078\n",
              "Lemon                 855\n",
              "Decaf Espresso        233\n",
              "Caffe Mocha           127\n",
              "Amaretto               82\n",
              "Colombian              49\n",
              "Decaf Irish Cream     -14\n",
              "Name: profit, dtype: int64"
            ]
          },
          "execution_count": 40,
          "metadata": {},
          "output_type": "execute_result"
        }
      ],
      "source": [
        "# Iowa\n",
        "# Filter produk di State Iowa\n",
        "df_io = df[df['state'] == 'Iowa']\n",
        "# Mengelompokkan data berdasarkan produk dan menghitung total keuntungan di CA\n",
        "total_keuntungan_per_produk_io = df_io.groupby('product')['profit'].sum()\n",
        "# Mengurutkan nilai keuntungan secara descending dan mengambil produk pertama\n",
        "produk_tertinggi_io = total_keuntungan_per_produk_io.sort_values(ascending=False)\n",
        "produk_tertinggi_io"
      ]
    },
    {
      "cell_type": "code",
      "execution_count": 41,
      "metadata": {},
      "outputs": [
        {
          "data": {
            "image/png": "[encoded data removed]",
            "text/plain": [
              "<Figure size 1000x600 with 1 Axes>"
            ]
          },
          "metadata": {},
          "output_type": "display_data"
        }
      ],
      "source": [
        "# Membuat plot bar untuk visualisasi total keuntungan per produk di Iowa\n",
        "plt.figure(figsize=(10, 6))\n",
        "produk_tertinggi_io.plot(kind='bar', color='purple')\n",
        "plt.title('Total Profit per Produk di State Iowa')\n",
        "plt.xlabel('Produk')\n",
        "plt.ylabel('Total Profit')\n",
        "plt.show()"
      ]
    },
    {
      "cell_type": "markdown",
      "metadata": {},
      "source": [
        "Insight: \n",
        "\n",
        "Produk dengan profit paling tinggi di iowa adalah Chamomile"
      ]
    },
    {
      "cell_type": "code",
      "execution_count": 42,
      "metadata": {},
      "outputs": [
        {
          "data": {
            "text/plain": [
              "product\n",
              "Amaretto             981\n",
              "Decaf Irish Cream    716\n",
              "Chamomile            711\n",
              "Green Tea            522\n",
              "Caffe Mocha          447\n",
              "Decaf Espresso       400\n",
              "Mint                 216\n",
              "Colombian            206\n",
              "Earl Grey            204\n",
              "Darjeeling            84\n",
              "Lemon                -37\n",
              "Name: profit, dtype: int64"
            ]
          },
          "execution_count": 42,
          "metadata": {},
          "output_type": "execute_result"
        }
      ],
      "source": [
        "# Colorado\n",
        "# Filter produk di State Colorado\n",
        "df_co = df[df['state'] == 'Colorado']\n",
        "# Mengelompokkan data berdasarkan produk dan menghitung total keuntungan di Colorado\n",
        "total_keuntungan_per_produk_co = df_co.groupby('product')['profit'].sum()\n",
        "# Mengurutkan nilai keuntungan secara descending dan mengambil produk pertama\n",
        "produk_tertinggi_co = total_keuntungan_per_produk_co.sort_values(ascending=False)\n",
        "produk_tertinggi_co"
      ]
    },
    {
      "cell_type": "code",
      "execution_count": 43,
      "metadata": {},
      "outputs": [
        {
          "data": {
            "image/png": "[encoded data removed]",
            "text/plain": [
              "<Figure size 1000x600 with 1 Axes>"
            ]
          },
          "metadata": {},
          "output_type": "display_data"
        }
      ],
      "source": [
        "# Membuat plot bar untuk visualisasi total keuntungan per produk di Colorado\n",
        "plt.figure(figsize=(10, 6))\n",
        "produk_tertinggi_io.plot(kind='bar', color='grey')\n",
        "plt.title('Total Profit per Produk di State Colorado')\n",
        "plt.xlabel('Produk')\n",
        "plt.ylabel('Total Profit')\n",
        "plt.show()"
      ]
    },
    {
      "cell_type": "markdown",
      "metadata": {},
      "source": [
        "Insight: \n",
        "\n",
        "Produk dengan profit paling tinggi di Colorado adalah Chamomile"
      ]
    },
    {
      "cell_type": "markdown",
      "metadata": {
        "id": "pSAMgp6-hsPZ"
      },
      "source": [
        "## 7.6-Dimana state paling banyak mendapatkan profit dari produk colombian?"
      ]
    },
    {
      "cell_type": "code",
      "execution_count": 44,
      "metadata": {
        "id": "v3K0OL7Lhz_I"
      },
      "outputs": [
        {
          "data": {
            "text/plain": [
              "state\n",
              "Massachusetts    2638\n",
              "New York         1873\n",
              "California       1871\n",
              "Texas            1359\n",
              "Illinois         1125\n",
              "Connecticut       850\n",
              "Oklahoma          524\n",
              "Florida           496\n",
              "Washington        407\n",
              "Louisiana         340\n",
              "Missouri          246\n",
              "Ohio              209\n",
              "Colorado          206\n",
              "New Hampshire     180\n",
              "New Mexico        174\n",
              "Utah              174\n",
              "Wisconsin         135\n",
              "Oregon             89\n",
              "Iowa               49\n",
              "Nevada            -13\n",
              "Name: profit, dtype: int64"
            ]
          },
          "execution_count": 44,
          "metadata": {},
          "output_type": "execute_result"
        }
      ],
      "source": [
        "# Filter data hanya untuk produk Colombian\n",
        "df_colombian = df[df['product'] == 'Colombian']\n",
        "# Mengelompokkan data berdasarkan 'State' dan menghitung total profit produk Colombian di setiap state\n",
        "totalprofit_colombian_tiap_state = df_colombian.groupby('state')['profit'].sum()\n",
        "# Mengurutkan DataFrame berdasarkan total profit tiap state\n",
        "df_sorted_by_profitcolombian = totalprofit_colombian_tiap_state.sort_values(ascending=False)\n",
        "df_sorted_by_profitcolombian"
      ]
    },
    {
      "cell_type": "code",
      "execution_count": 45,
      "metadata": {},
      "outputs": [
        {
          "data": {
            "image/png": "[encoded data removed]",
            "text/plain": [
              "<Figure size 1000x600 with 1 Axes>"
            ]
          },
          "metadata": {},
          "output_type": "display_data"
        }
      ],
      "source": [
        "# Membuat plot bar untuk visualisasi profit produk Colombian tiap state\n",
        "plt.figure(figsize=(10, 6))\n",
        "df_sorted_by_profitcolombian.plot(kind='barh', color='Red')\n",
        "plt.title('Profit Produk Colombian tiap State')\n",
        "plt.xlabel('State')\n",
        "plt.ylabel('Total Profit')\n",
        "plt.show()"
      ]
    },
    {
      "cell_type": "markdown",
      "metadata": {},
      "source": [
        "Insight:\n",
        "\n",
        "State paling banyak memberikan profit pada produk Colombian adalah Massachusetts, 4 state selanjutnya paling banyak memberikan profit adalah New York, California, Texas & Illinois."
      ]
    },
    {
      "cell_type": "markdown",
      "metadata": {},
      "source": [
        "## 7.7- Bulan apa produk paling banyak profit"
      ]
    },
    {
      "cell_type": "code",
      "execution_count": 46,
      "metadata": {},
      "outputs": [
        {
          "data": {
            "text/plain": [
              "month\n",
              "8     7888\n",
              "6     6230\n",
              "2     5956\n",
              "7     5683\n",
              "1     5529\n",
              "5     4817\n",
              "9     4802\n",
              "10    4768\n",
              "12    4766\n",
              "3     4686\n",
              "11    4661\n",
              "4     4525\n",
              "Name: profit, dtype: int64"
            ]
          },
          "execution_count": 46,
          "metadata": {},
          "output_type": "execute_result"
        }
      ],
      "source": [
        "# Mengekstrak bulan dari kolom 'Date'\n",
        "df['month'] = df['date'].dt.month\n",
        "df['year'] = df['date'].dt.year\n",
        "# Mengelompokkan data berdasarkan bulan dan menghitung total profit per bulan\n",
        "total_profit_per_bulan = df.groupby('month')['profit'].sum().sort_values(ascending=False)\n",
        "total_profit_per_bulan"
      ]
    },
    {
      "cell_type": "code",
      "execution_count": 47,
      "metadata": {},
      "outputs": [
        {
          "data": {
            "text/plain": [
              "Text(0, 0.5, 'Total Profit')"
            ]
          },
          "execution_count": 47,
          "metadata": {},
          "output_type": "execute_result"
        },
        {
          "data": {
            "image/png": "[encoded data removed]",
            "text/plain": [
              "<Figure size 1000x600 with 1 Axes>"
            ]
          },
          "metadata": {},
          "output_type": "display_data"
        }
      ],
      "source": [
        "# Membuat plot bar untuk visualisasi total profit per bulan\n",
        "plt.figure(figsize=(10, 6))\n",
        "total_profit_per_bulan = df.groupby(['year', 'month'])['profit'].sum()\n",
        "total_profit_per_bulan.plot(kind='bar', color='green')\n",
        "plt.title('Total Profit per Bulan Produk Colombian')\n",
        "plt.xlabel('Bulan dan Tahun')\n",
        "plt.ylabel('Total Profit')"
      ]
    },
    {
      "cell_type": "markdown",
      "metadata": {},
      "source": [
        "Insight:\n",
        "\n",
        "Bulan paling banyak mendapatkan profit pada bulan Agustus tahun 2014"
      ]
    },
    {
      "cell_type": "code",
      "execution_count": 48,
      "metadata": {},
      "outputs": [
        {
          "name": "stdout",
          "output_type": "stream",
          "text": [
            "Total Profit Tahun 2015: 21954\n"
          ]
        }
      ],
      "source": [
        "# Menghitung total profit pada tahun 2015\n",
        "total_profit_2015 = df[df['year'] == 2015]['profit'].sum()\n",
        "\n",
        "print(\"Total Profit Tahun 2015:\", total_profit_2015)\n"
      ]
    },
    {
      "cell_type": "markdown",
      "metadata": {},
      "source": [
        "## 7.8-Statistik Inferential:\n",
        "\n",
        "Apakah memang negara New York dan California yang memiliki profit paling tinggi pada produk colomnian tersebut memiliki perbedaan yg signifikan, coba cek menggunakan two sampel"
      ]
    },
    {
      "cell_type": "code",
      "execution_count": 49,
      "metadata": {},
      "outputs": [],
      "source": [
        "# Melakukan uji Hypothesis Testing dengan two sample untuk kedua negara\n",
        "new = df_colombian[df_colombian['state'] == 'New York']['profit']\n",
        "cal = df_colombian[df_colombian['state'] == 'California']['profit']\n",
        "\n",
        "t_statistic, p_value = stats.ttest_ind(new, cal)"
      ]
    },
    {
      "cell_type": "code",
      "execution_count": 50,
      "metadata": {},
      "outputs": [
        {
          "name": "stdout",
          "output_type": "stream",
          "text": [
            "T-Statistic: 0.00828346625515706\n",
            "P-Value: 0.9935537487546138\n"
          ]
        }
      ],
      "source": [
        "# panggin uji Hypothesis Testing\n",
        "print(f'T-Statistic: {t_statistic}')\n",
        "print(f'P-Value: {p_value}')"
      ]
    },
    {
      "cell_type": "markdown",
      "metadata": {},
      "source": [
        "Insight:\n",
        "\n",
        "Karena p-value lebih lebih dari 0,05 maka H0 gagal ditolak sehingga tidak ada perbedaan signifikan antara profit di dua negara"
      ]
    },
    {
      "cell_type": "markdown",
      "metadata": {},
      "source": [
        "## 7.8.1 -Statistik Inferential: perbedaan keuntungan antara produk Colombian dan Lemon"
      ]
    },
    {
      "cell_type": "code",
      "execution_count": 54,
      "metadata": {},
      "outputs": [],
      "source": [
        "# Contoh uji hipotesis: perbedaan keuntungan antara produk Colombian dan Lemon\n",
        "colombian_profit = df[df['product'] == 'Colombian']['profit']\n",
        "lemon_profit = df[df['product'] == 'Lemon']['profit']\n",
        "\n",
        "t_statistic, p_value = stats.ttest_ind(colombian_profit, lemon_profit)"
      ]
    },
    {
      "cell_type": "code",
      "execution_count": 55,
      "metadata": {},
      "outputs": [
        {
          "name": "stdout",
          "output_type": "stream",
          "text": [
            "T-Statistic: 3.212327336942684\n",
            "P-Value: 0.001498481193781478\n"
          ]
        }
      ],
      "source": [
        "# panggin uji Hypothesis Testing\n",
        "print(f'T-Statistic: {t_statistic}')\n",
        "print(f'P-Value: {p_value}')"
      ]
    },
    {
      "cell_type": "markdown",
      "metadata": {},
      "source": [
        "**Insight:**\n",
        "1. T-Statistic: Nilai t-statistik adalah ukuran seberapa jauh perbedaan antara rata-rata kedua kelompok dalam satuan standar. Semakin besar nilainya, semakin besar perbedaannya relatif terhadap variasi dalam data.\n",
        "\n",
        "Dalam contoh ini, nilai t-statistik adalah 3.212327336942684. Ini menunjukkan bahwa perbedaan antara rata-rata keuntungan produk Colombian dan Lemon adalah sekitar 3,21 kali lebih besar dari variasi dalam data.\n",
        "\n",
        "2. P-Value: Nilai p-value adalah probabilitas bahwa perbedaan yang diamati antara dua kelompok adalah hasil dari kesalahan sampling. Nilai p-value yang lebih kecil menunjukkan bahwa perbedaan antara dua kelompok lebih mungkin nyata daripada hanya hasil dari variasi acak.\n",
        "\n",
        "Dalam contoh ini, p-value adalah 0.001498481193781478. Nilai ini cukup rendah, jauh di bawah tingkat signifikansi yang umumnya digunakan (misalnya 0.05). Artinya, terdapat bukti yang cukup kuat untuk menolak hipotesis nol bahwa tidak ada perbedaan antara keuntungan produk Colombian dan Lemon. Sebaliknya, kita dapat menerima hipotesis alternatif bahwa ada perbedaan signifikan dalam keuntungan antara kedua produk tersebut.\n",
        "\n",
        "\n",
        "3. Dalam contoh ini, nilai p-value yang diberikan adalah 0.001498481193781478. Ini berarti bahwa jika hipotesis nol benar (yaitu tidak ada perbedaan signifikan antara keuntungan produk Colombian dan Lemon), maka kemungkinan mengamati perbedaan yang kita lihat dalam data adalah 0.001498481193781478, atau sekitar 0,15%. Karena nilai p-value ini sangat rendah, jauh di bawah tingkat signifikansi yang umumnya digunakan (misalnya 0.05), kita menyimpulkan bahwa ada bukti yang cukup kuat untuk menolak H0.\n",
        "\n",
        "Hipotesis nol (H0) dalam konteks ini menyatakan bahwa tidak ada perbedaan signifikan dalam keuntungan antara produk Colombian dan Lemon. Dengan demikian, dengan memiliki nilai p-value yang rendah, kita menolak H0 dan menerima hipotesis alternatif bahwa ada perbedaan yang signifikan dalam keuntungan antara kedua produk tersebut. Artinya, perbedaan yang diamati dalam keuntungan antara produk Colombian dan Lemon tidak mungkin hanya hasil dari variasi acak, melainkan memang ada perbedaan yang nyata di antara keduanya."
      ]
    },
    {
      "cell_type": "markdown",
      "metadata": {},
      "source": [
        "## 7.9-Statistik Deskriptif dengan metode Central Tendency\n",
        "\n",
        "Mean: Rata-rata profit pada produk colombian? \n",
        "\n",
        "Median: Median profit pada produk columbian?\n",
        "\n",
        "Modus: profit pada produk columbian\n"
      ]
    },
    {
      "cell_type": "code",
      "execution_count": 51,
      "metadata": {},
      "outputs": [
        {
          "name": "stdout",
          "output_type": "stream",
          "text": [
            "Rata rata profit pada produk colombian: 107.76666666666667\n",
            "Median profit pada produk columbian: 47.0\n",
            "Mode profit pada produk columbian: 27\n"
          ]
        }
      ],
      "source": [
        "print('Rata rata profit pada produk colombian:', df_colombian['profit'].mean())\n",
        "print('Median profit pada produk columbian:',df_colombian['profit'].median())\n",
        "print('Mode profit pada produk columbian:',df_colombian['profit'].mode().values[0])"
      ]
    },
    {
      "cell_type": "markdown",
      "metadata": {
        "id": "qbGgHrTqh0YP"
      },
      "source": [
        "# 8-Conclusion"
      ]
    },
    {
      "cell_type": "markdown",
      "metadata": {
        "id": "sMeWQ88Gh6eB"
      },
      "source": [
        "1. Produk paling banyak terjual yaitu Colombian dan produk paling profit yaitu Colombian \n",
        "\n",
        "2. State paling banyak menjual produk adalah California dan state paling banyak memberikan profit adalah Illionis\n",
        "\n",
        "3. Dari 5 state paling banyak profit, produk apa yang paling profit dari masing-masing state:\n",
        "Illinois: Caffe Mocha \n",
        "california: colombian\n",
        "New York: Regular Espresso\n",
        "iowa: Chamomile\n",
        "Colorado: Chamomile\n",
        "\n",
        "Dapat disimpukan bahwa dari 5 state paling profit memiliki produk paling profit yang berbeda beda, mereka memiliki menu best seller mereka masing-masing, sehingga belum tentu dari 5 state paling profit produk paling profitnya adalaha Colombian\n",
        "\n",
        "4. Bulan paling banyak mendapatkan profit yaitu pada bulan Agustus tahun 2014 \n",
        "State paling banyak mendapatkan profit dari produk colombian adalah Massachusetts\n",
        "\n",
        "5. Karena p-value lebih lebih dari 0,05 maka H0 gagal ditolak sehingga tidak ada perbedaan signifikan antara profit di dua negara\n",
        "\n",
        "6. Sehingga karena kita telah mengetahui state yang paling profit dan produk paling profit kita bisa lebih fokus melakuakan penjualan dan meningkatkan promosi baik secara offline dan online, bisa juga memberikan promo-promo yang banyak \n",
        "\n",
        "7. Untuk meningktakan  profit 10% maka dapat dilakukan banyak penjualan pada produk paling profit dan state paling profit, bisa memberikan promosi yang menarik, kolaborasi dengan influencer utk meningkatkan penjualan, promosi di sosmed, dan fokus pada produk paling profit saja, yang produk mendpatakan prodfit paling renda nantinya bisa dihapuskan untuk mengurangi biaya operasional dan lainnya."
      ]
    }
  ],
  "metadata": {
    "colab": {
      "provenance": [],
      "toc_visible": true
    },
    "kernelspec": {
      "display_name": "Python 3",
      "name": "python3"
    },
    "language_info": {
      "codemirror_mode": {
        "name": "ipython",
        "version": 3
      },
      "file_extension": ".py",
      "mimetype": "text/x-python",
      "name": "python",
      "nbconvert_exporter": "python",
      "pygments_lexer": "ipython3",
      "version": "3.9.12"
    }
  },
  "nbformat": 4,
  "nbformat_minor": 0
}
